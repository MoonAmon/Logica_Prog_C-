{
 "cells": [
  {
   "cell_type": "markdown",
   "metadata": {},
   "source": [
    "# Creating the Spider"
   ]
  },
  {
   "cell_type": "markdown",
   "metadata": {},
   "source": [
    "- Requires Imports"
   ]
  },
  {
   "cell_type": "code",
   "execution_count": 17,
   "metadata": {},
   "outputs": [],
   "source": [
    "import scrapy\n",
    "import csv\n",
    "from scrapy.crawler import CrawlerProcess"
   ]
  },
  {
   "cell_type": "markdown",
   "metadata": {},
   "source": [
    "- The part we will focus on: the actual spider"
   ]
  },
  {
   "cell_type": "code",
   "execution_count": null,
   "metadata": {},
   "outputs": [],
   "source": [
    "class SpiderClassName(scrapy.Spider):\n",
    "    name = \"spider_name\"\n",
    "\n",
    "    def start_requests(self):\n",
    "        url = 'https://www.datacamp.com/courses/all'\n",
    "        yield scrapy.Request( url = url, callback = self.parse )\n",
    "\n",
    "    def parse(self, response):\n",
    "        # simple example: write out the html\n",
    "        html_file = 'DC_courses.html'\n",
    "        with open( html_file, 'wb') as fout:\n",
    "            fout.write( response.body )"
   ]
  },
  {
   "cell_type": "markdown",
   "metadata": {},
   "source": [
    "- Running the spider"
   ]
  },
  {
   "cell_type": "code",
   "execution_count": null,
   "metadata": {},
   "outputs": [],
   "source": [
    "# initiate a CrawlerProcessa\n",
    "process = CrawlerProcess()\n",
    "\n",
    "# tell the process which spider to use\n",
    "process.crawl(YourSpider)\n",
    "\n",
    "# start the crawling process\n",
    "process.start()"
   ]
  },
  {
   "cell_type": "markdown",
   "metadata": {},
   "source": [
    "- Example of Spider"
   ]
  },
  {
   "cell_type": "code",
   "execution_count": null,
   "metadata": {},
   "outputs": [],
   "source": [
    "from typing import Iterable\n",
    "from scrapy.http import Request\n",
    "import scrapy\n",
    "from scrapy.crawler import CrawlerProcess\n",
    "\n",
    "\n",
    "class DC_Chapter_Spider(scrapy.Spider):\n",
    "    \n",
    "    name = 'dc_chapter_spider'\n",
    "\n",
    "    def start_requests(self):\n",
    "        url = 'https://www.datacamp.com/courses/all'\n",
    "        yield scrapy.Request( url = url, callback = self.parse_front)\n",
    "    \n",
    "    def parse_front( self, response ):\n",
    "        # Narrow in on the course blocks\n",
    "        course_blocks = response.css( 'div.course-block' )\n",
    "        # Direct to the course links\n",
    "        course_links = course_blocks.xpath( './a/@href' )\n",
    "        # Extract the links\n",
    "        links_to_follow = course_links.extract()\n",
    "        # Follow the links to the next parser\n",
    "        for url in links_to_follow:\n",
    "            yield response.follow( url = url, callback = self.parse_pages )\n",
    "   \n",
    "    def parse_pages( self, response):\n",
    "        # Direct to the course title text\n",
    "        crs_title = response.xpath( '//h1[contains(@class,\"title\")]/text()' )\n",
    "        # Extract and clean the course title text\n",
    "        crs_title_ext = crs_title.extract_first().strip()\n",
    "        # Direct to the chapter title text\n",
    "        ch_titles = response.css( 'h4.chapter__title::text' )\n",
    "        # Extract and clean the chapter titles text\n",
    "        ch_titles_ext = [t.strip() for t in ch_titles.extract()]\n",
    "        # Store this in our dictionary\n",
    "        dc_dict[ crs_title_ext ] = ch_titles_ext\n",
    "        \n",
    "dc_dict = dict()\n",
    "\n",
    "process = CrawlerProcess()\n",
    "process.crawl(DC_Chapter_Spider)\n",
    "process.start()"
   ]
  },
  {
   "cell_type": "code",
   "execution_count": 19,
   "metadata": {},
   "outputs": [
    {
     "name": "stderr",
     "output_type": "stream",
     "text": [
      "2023-10-29 18:44:15 [scrapy.utils.log] INFO: Scrapy 2.11.0 started (bot: scrapybot)\n",
      "2023-10-29 18:44:15 [scrapy.utils.log] INFO: Versions: lxml 4.9.3.0, libxml2 2.10.3, cssselect 1.2.0, parsel 1.8.1, w3lib 2.1.2, Twisted 22.10.0, Python 3.12.0 (tags/v3.12.0:0fb18b0, Oct  2 2023, 13:03:39) [MSC v.1935 64 bit (AMD64)], pyOpenSSL 23.3.0 (OpenSSL 3.1.4 24 Oct 2023), cryptography 41.0.5, Platform Windows-10-10.0.19042-SP0\n",
      "2023-10-29 18:44:15 [scrapy.addons] INFO: Enabled addons:\n",
      "[]\n",
      "2023-10-29 18:44:15 [py.warnings] WARNING: c:\\Users\\Thiago\\AppData\\Local\\Programs\\Python\\Python312\\Lib\\site-packages\\scrapy\\utils\\request.py:254: ScrapyDeprecationWarning: '2.6' is a deprecated value for the 'REQUEST_FINGERPRINTER_IMPLEMENTATION' setting.\n",
      "\n",
      "It is also the default value. In other words, it is normal to get this warning if you have not defined a value for the 'REQUEST_FINGERPRINTER_IMPLEMENTATION' setting. This is so for backward compatibility reasons, but it will change in a future version of Scrapy.\n",
      "\n",
      "See the documentation of the 'REQUEST_FINGERPRINTER_IMPLEMENTATION' setting for information on how to handle this deprecation.\n",
      "  return cls(crawler)\n",
      "\n",
      "2023-10-29 18:44:15 [scrapy.utils.log] DEBUG: Using reactor: twisted.internet.selectreactor.SelectReactor\n",
      "2023-10-29 18:44:15 [scrapy.extensions.telnet] INFO: Telnet Password: afc2de888de7ecdc\n",
      "2023-10-29 18:44:15 [scrapy.middleware] INFO: Enabled extensions:\n",
      "['scrapy.extensions.corestats.CoreStats',\n",
      " 'scrapy.extensions.telnet.TelnetConsole',\n",
      " 'scrapy.extensions.logstats.LogStats']\n",
      "2023-10-29 18:44:15 [scrapy.crawler] INFO: Overridden settings:\n",
      "{}\n",
      "2023-10-29 18:44:15 [scrapy.middleware] INFO: Enabled downloader middlewares:\n",
      "['scrapy.downloadermiddlewares.httpauth.HttpAuthMiddleware',\n",
      " 'scrapy.downloadermiddlewares.downloadtimeout.DownloadTimeoutMiddleware',\n",
      " 'scrapy.downloadermiddlewares.defaultheaders.DefaultHeadersMiddleware',\n",
      " 'scrapy.downloadermiddlewares.useragent.UserAgentMiddleware',\n",
      " 'scrapy.downloadermiddlewares.retry.RetryMiddleware',\n",
      " 'scrapy.downloadermiddlewares.redirect.MetaRefreshMiddleware',\n",
      " 'scrapy.downloadermiddlewares.httpcompression.HttpCompressionMiddleware',\n",
      " 'scrapy.downloadermiddlewares.redirect.RedirectMiddleware',\n",
      " 'scrapy.downloadermiddlewares.cookies.CookiesMiddleware',\n",
      " 'scrapy.downloadermiddlewares.httpproxy.HttpProxyMiddleware',\n",
      " 'scrapy.downloadermiddlewares.stats.DownloaderStats']\n",
      "2023-10-29 18:44:15 [scrapy.middleware] INFO: Enabled spider middlewares:\n",
      "['scrapy.spidermiddlewares.httperror.HttpErrorMiddleware',\n",
      " 'scrapy.spidermiddlewares.offsite.OffsiteMiddleware',\n",
      " 'scrapy.spidermiddlewares.referer.RefererMiddleware',\n",
      " 'scrapy.spidermiddlewares.urllength.UrlLengthMiddleware',\n",
      " 'scrapy.spidermiddlewares.depth.DepthMiddleware']\n",
      "2023-10-29 18:44:15 [scrapy.middleware] INFO: Enabled item pipelines:\n",
      "[]\n",
      "2023-10-29 18:44:15 [scrapy.core.engine] INFO: Spider opened\n",
      "2023-10-29 18:44:15 [scrapy.extensions.logstats] INFO: Crawled 0 pages (at 0 pages/min), scraped 0 items (at 0 items/min)\n",
      "2023-10-29 18:44:15 [scrapy.extensions.telnet] INFO: Telnet console listening on 127.0.0.1:6032\n"
     ]
    },
    {
     "ename": "ReactorNotRestartable",
     "evalue": "",
     "output_type": "error",
     "traceback": [
      "\u001b[1;31m---------------------------------------------------------------------------\u001b[0m",
      "\u001b[1;31mReactorNotRestartable\u001b[0m                     Traceback (most recent call last)",
      "\u001b[1;32mc:\\Users\\Thiago\\Desktop\\Logica_Prog_C-\\LP_Python\\webscraping\\webscraping_notebook2.ipynb Cell 10\u001b[0m line \u001b[0;36m2\n\u001b[0;32m     <a href='vscode-notebook-cell:/c%3A/Users/Thiago/Desktop/Logica_Prog_C-/LP_Python/webscraping/webscraping_notebook2.ipynb#X15sZmlsZQ%3D%3D?line=22'>23</a>\u001b[0m process \u001b[39m=\u001b[39m CrawlerProcess()\n\u001b[0;32m     <a href='vscode-notebook-cell:/c%3A/Users/Thiago/Desktop/Logica_Prog_C-/LP_Python/webscraping/webscraping_notebook2.ipynb#X15sZmlsZQ%3D%3D?line=23'>24</a>\u001b[0m process\u001b[39m.\u001b[39mcrawl(YuGiHo_Spider)\n\u001b[1;32m---> <a href='vscode-notebook-cell:/c%3A/Users/Thiago/Desktop/Logica_Prog_C-/LP_Python/webscraping/webscraping_notebook2.ipynb#X15sZmlsZQ%3D%3D?line=24'>25</a>\u001b[0m process\u001b[39m.\u001b[39;49mstart()\n",
      "File \u001b[1;32mc:\\Users\\Thiago\\AppData\\Local\\Programs\\Python\\Python312\\Lib\\site-packages\\scrapy\\crawler.py:427\u001b[0m, in \u001b[0;36mCrawlerProcess.start\u001b[1;34m(self, stop_after_crawl, install_signal_handlers)\u001b[0m\n\u001b[0;32m    425\u001b[0m tp\u001b[39m.\u001b[39madjustPoolsize(maxthreads\u001b[39m=\u001b[39m\u001b[39mself\u001b[39m\u001b[39m.\u001b[39msettings\u001b[39m.\u001b[39mgetint(\u001b[39m\"\u001b[39m\u001b[39mREACTOR_THREADPOOL_MAXSIZE\u001b[39m\u001b[39m\"\u001b[39m))\n\u001b[0;32m    426\u001b[0m reactor\u001b[39m.\u001b[39maddSystemEventTrigger(\u001b[39m\"\u001b[39m\u001b[39mbefore\u001b[39m\u001b[39m\"\u001b[39m, \u001b[39m\"\u001b[39m\u001b[39mshutdown\u001b[39m\u001b[39m\"\u001b[39m, \u001b[39mself\u001b[39m\u001b[39m.\u001b[39mstop)\n\u001b[1;32m--> 427\u001b[0m reactor\u001b[39m.\u001b[39;49mrun(installSignalHandlers\u001b[39m=\u001b[39;49m\u001b[39mFalse\u001b[39;49;00m)\n",
      "File \u001b[1;32mc:\\Users\\Thiago\\AppData\\Local\\Programs\\Python\\Python312\\Lib\\site-packages\\twisted\\internet\\base.py:1317\u001b[0m, in \u001b[0;36m_SignalReactorMixin.run\u001b[1;34m(self, installSignalHandlers)\u001b[0m\n\u001b[0;32m   1316\u001b[0m \u001b[39mdef\u001b[39;00m \u001b[39mrun\u001b[39m(\u001b[39mself\u001b[39m, installSignalHandlers: \u001b[39mbool\u001b[39m \u001b[39m=\u001b[39m \u001b[39mTrue\u001b[39;00m) \u001b[39m-\u001b[39m\u001b[39m>\u001b[39m \u001b[39mNone\u001b[39;00m:\n\u001b[1;32m-> 1317\u001b[0m     \u001b[39mself\u001b[39;49m\u001b[39m.\u001b[39;49mstartRunning(installSignalHandlers\u001b[39m=\u001b[39;49minstallSignalHandlers)\n\u001b[0;32m   1318\u001b[0m     \u001b[39mself\u001b[39m\u001b[39m.\u001b[39mmainLoop()\n",
      "File \u001b[1;32mc:\\Users\\Thiago\\AppData\\Local\\Programs\\Python\\Python312\\Lib\\site-packages\\twisted\\internet\\base.py:1299\u001b[0m, in \u001b[0;36m_SignalReactorMixin.startRunning\u001b[1;34m(self, installSignalHandlers)\u001b[0m\n\u001b[0;32m   1290\u001b[0m \u001b[39m\u001b[39m\u001b[39m\"\"\"\u001b[39;00m\n\u001b[0;32m   1291\u001b[0m \u001b[39mExtend the base implementation in order to remember whether signal\u001b[39;00m\n\u001b[0;32m   1292\u001b[0m \u001b[39mhandlers should be installed later.\u001b[39;00m\n\u001b[1;32m   (...)\u001b[0m\n\u001b[0;32m   1296\u001b[0m \u001b[39m    installed during startup.\u001b[39;00m\n\u001b[0;32m   1297\u001b[0m \u001b[39m\"\"\"\u001b[39;00m\n\u001b[0;32m   1298\u001b[0m \u001b[39mself\u001b[39m\u001b[39m.\u001b[39m_installSignalHandlers \u001b[39m=\u001b[39m installSignalHandlers\n\u001b[1;32m-> 1299\u001b[0m ReactorBase\u001b[39m.\u001b[39;49mstartRunning(cast(ReactorBase, \u001b[39mself\u001b[39;49m))\n",
      "File \u001b[1;32mc:\\Users\\Thiago\\AppData\\Local\\Programs\\Python\\Python312\\Lib\\site-packages\\twisted\\internet\\base.py:843\u001b[0m, in \u001b[0;36mReactorBase.startRunning\u001b[1;34m(self)\u001b[0m\n\u001b[0;32m    841\u001b[0m     \u001b[39mraise\u001b[39;00m error\u001b[39m.\u001b[39mReactorAlreadyRunning()\n\u001b[0;32m    842\u001b[0m \u001b[39mif\u001b[39;00m \u001b[39mself\u001b[39m\u001b[39m.\u001b[39m_startedBefore:\n\u001b[1;32m--> 843\u001b[0m     \u001b[39mraise\u001b[39;00m error\u001b[39m.\u001b[39mReactorNotRestartable()\n\u001b[0;32m    844\u001b[0m \u001b[39mself\u001b[39m\u001b[39m.\u001b[39m_started \u001b[39m=\u001b[39m \u001b[39mTrue\u001b[39;00m\n\u001b[0;32m    845\u001b[0m \u001b[39mself\u001b[39m\u001b[39m.\u001b[39m_stopped \u001b[39m=\u001b[39m \u001b[39mFalse\u001b[39;00m\n",
      "\u001b[1;31mReactorNotRestartable\u001b[0m: "
     ]
    }
   ],
   "source": [
    "class YuGiHo_Spider(scrapy.Spider):\n",
    "    \n",
    "    name = 'YuGiHo_Spider'\n",
    "    \n",
    "    def start_requests(self):\n",
    "        url = 'https://db.ygoprodeck.com/api/v7/cardinfo.php?archetype=Blue-Eyes'\n",
    "        yield scrapy.Request( url=url , callback=self.parse)\n",
    "        \n",
    "    def parse(self, response):\n",
    "        data = response.json()\n",
    "        with open('cards_test.csv', 'w', newline='') as csvfile:\n",
    "            fieldnames = ['name','type']\n",
    "            writer = csv.DictWriter(csvfile, fieldnames=fieldnames)\n",
    "            writer.writeheader()\n",
    "            for card in data['data']:\n",
    "                writer.writerow({\n",
    "                    'name': card['name'],\n",
    "                    'type': card['type']\n",
    "                })\n",
    "        csvfile.close()\n",
    "\n",
    "\n",
    "process = CrawlerProcess()\n",
    "process.crawl(YuGiHo_Spider)\n",
    "process.start()\n",
    "\n",
    "\n"
   ]
  },
  {
   "cell_type": "code",
   "execution_count": null,
   "metadata": {},
   "outputs": [],
   "source": []
  }
 ],
 "metadata": {
  "kernelspec": {
   "display_name": "Python 3",
   "language": "python",
   "name": "python3"
  },
  "language_info": {
   "codemirror_mode": {
    "name": "ipython",
    "version": 3
   },
   "file_extension": ".py",
   "mimetype": "text/x-python",
   "name": "python",
   "nbconvert_exporter": "python",
   "pygments_lexer": "ipython3",
   "version": "3.12.0"
  }
 },
 "nbformat": 4,
 "nbformat_minor": 2
}
