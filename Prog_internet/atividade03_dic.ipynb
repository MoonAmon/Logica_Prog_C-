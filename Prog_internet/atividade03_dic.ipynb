{
 "cells": [
  {
   "cell_type": "markdown",
   "metadata": {},
   "source": [
    "# Exercício 1 - Aula 3 (Dicionários em Python)"
   ]
  },
  {
   "cell_type": "markdown",
   "metadata": {},
   "source": [
    "Escreva um código em Python para armazenar e apresentar informações das disciplinas que os estudantes estão matriculados.\n",
    "O nome do estudante é a chave, e as disciplinas são os valores.\n",
    "\n",
    "Regras:\n",
    "\n",
    "- Para cada aluno, o código deve apresentar as disciplinas que ele está cadastrado;\n",
    "- Os valores das variáveis devem ser atribuídos diretamente no código;"
   ]
  },
  {
   "cell_type": "code",
   "execution_count": null,
   "metadata": {},
   "outputs": [],
   "source": [
    "disciplinasAlunos = {\n",
    "    \"João\": ['Banco de Dados 2', 'Estatistica', 'Sistemas Operacionais','Projeto Integrador 3'],\n",
    "    \"Maria\": ['Banco de Dados 2', 'Estatistica', 'Sistemas Operacionais','Projeto Integrador 3'],\n",
    "    \"José\": ['Banco de Dados 2', 'Estatistica', 'Sistemas Operacionais','Projeto Integrador 3'],\n",
    "    \"Ana\": ['Banco de Dados 2', 'Estatistica', 'Sistemas Operacionais','Projeto Integrador 3'],\n",
    "    \"Carlos\": ['Banco de Dados 2', 'Sistemas Operacionais','Projeto Integrador 3']\n",
    "}"
   ]
  }
 ],
 "metadata": {
  "language_info": {
   "name": "python"
  }
 },
 "nbformat": 4,
 "nbformat_minor": 2
}
