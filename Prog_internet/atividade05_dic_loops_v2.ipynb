{
 "cells": [
  {
   "cell_type": "markdown",
   "metadata": {},
   "source": [
    "# Exercício 3 - Aula 4 (Dicionários e repetições) "
   ]
  },
  {
   "cell_type": "markdown",
   "metadata": {},
   "source": [
    "Evolua o código do Exercício 2 - Aula 4 (Dicionários e repetições), para que o entrevistado, além de responder a pergunta \"Já teve dengue?\", responda também às seguintes perguntas:\n",
    "\n",
    "    > Já teve covid19? \n",
    "    > Tem alguma comorbidade?\n",
    "    > Faz parte do grupo de Risco?\n",
    "\n",
    "Para cada entrevistado, apresente suas respostas.\n",
    "Obs.: Apresente as respostas de uma forma amigável para o usuário."
   ]
  },
  {
   "cell_type": "code",
   "execution_count": 7,
   "metadata": {},
   "outputs": [
    {
     "name": "stdout",
     "output_type": "stream",
     "text": [
      "Nome entrevistado: Noma\n",
      "Já teve dengue: Sim \n",
      "Já teve comorbidade: Não \n",
      "Faz parte do grupo de risco: Sim\n",
      "Nome entrevistado: Houra\n",
      "Já teve dengue: Não \n",
      "Já teve comorbidade: Sim \n",
      "Faz parte do grupo de risco: Sim\n",
      "Nome entrevistado: Joujou\n",
      "Já teve dengue: Não \n",
      "Já teve comorbidade: Não \n",
      "Faz parte do grupo de risco: Não\n",
      "{'Noma': ['Sim', 'Não', 'Sim'], 'Houra': ['Não', 'Sim', 'Sim'], 'Joujou': ['Não', 'Não', 'Não']}\n"
     ]
    }
   ],
   "source": [
    "# Criar um dicionário com o nome do entrevistado como chave e a resposta se já teve dengue como valor\n",
    "entrevistaDengue = {}\n",
    "\n",
    "# Pedir a quantidade de entrevistados\n",
    "quantidadeEntrevistados = int(input(\"Digite a quantidade de entrevistados: \"))\n",
    "\n",
    "\n",
    "for i in range(quantidadeEntrevistados):\n",
    "\n",
    "    # Criar lista vazia para armazenar as respostas\n",
    "    respostas = []\n",
    " \n",
    "    # Pedir o nome do entrevistado\n",
    "    nomeEntrevistadoTemp = input(\"Digite o nome do entrevistado: \").title()\n",
    "\n",
    "    # Pedir a resposta do entrevistado se já teve dengue\n",
    "    respostaTemp = int(input(\"Você já teve dengue? 1 - Sim 2 - Não: \"))\n",
    "\n",
    "    # Adicionar o nome e a resposta à lista\n",
    "    respostas.append(respostaTemp)\n",
    "\n",
    "    # Pedit a resposta do entrevistado se já teve alguma comorbidade\n",
    "    respostaTemp = int(input(\"Você já teve alguma comorbidade? 1 - Sim 2 - Não: \"))\n",
    "\n",
    "    # Adicionar a resposta à lista\n",
    "    respostas.append(respostaTemp)\n",
    "\n",
    "    # Pedir a resposta do entrevistado se o mesmo faz parte do grupo de risco\n",
    "    respostaTemp = int(input(\"Você faz parte do grupo de risco? 1 - Sim 2 - Não: \"))\n",
    "\n",
    "    # Adicionar a resposta à lista\n",
    "    respostas.append(respostaTemp)\n",
    "\n",
    "    # Substituir as respostas por Sim ou Não\n",
    "    for j in range(len(respostas)):\n",
    "        if respostas[j] == 1:\n",
    "            respostas[j] = \"Sim\"\n",
    "        elif respostas[j] == 2:\n",
    "            respostas[j] = \"Não\"\n",
    "        else:\n",
    "            respostas[j] = \"Resposta inválida\"\n",
    "\n",
    "    # Mostrar respostas do entrevistado\n",
    "    print(f\"Nome entrevistado: {nomeEntrevistadoTemp}\\nJá teve dengue: {respostas[0]} \\nJá teve comorbidade: {respostas[1]} \\nFaz parte do grupo de risco: {respostas[2]}\")\n",
    "   \n",
    "    # Adicionar o nome e a resposta ao dicionário\n",
    "    entrevistaDengue[nomeEntrevistadoTemp] = respostas.copy()\n",
    "\n",
    "print(entrevistaDengue)"
   ]
  }
 ],
 "metadata": {
  "kernelspec": {
   "display_name": "Python 3",
   "language": "python",
   "name": "python3"
  },
  "language_info": {
   "codemirror_mode": {
    "name": "ipython",
    "version": 3
   },
   "file_extension": ".py",
   "mimetype": "text/x-python",
   "name": "python",
   "nbconvert_exporter": "python",
   "pygments_lexer": "ipython3",
   "version": "3.12.2"
  }
 },
 "nbformat": 4,
 "nbformat_minor": 2
}
