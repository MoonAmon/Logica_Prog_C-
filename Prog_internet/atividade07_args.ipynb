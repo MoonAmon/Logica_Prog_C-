{
 "cells": [
  {
   "cell_type": "markdown",
   "metadata": {},
   "source": [
    "# Exercício 2 - Aula 6 - Funções em Python utilizando *args"
   ]
  },
  {
   "cell_type": "markdown",
   "metadata": {},
   "source": [
    "Escreva um código em Python que contenha uma função chamada maior(), capaz de receber vários números inteiros\n",
    "como parâmetro.\n",
    "\n",
    "- O código deverá analisar todos os valores informados pelo usuário e fazer o que se pede a seguir:\n",
    "- Informar quantos valores foram analisados;\n",
    "- Dizer qual foi o maior deles."
   ]
  },
  {
   "cell_type": "code",
   "execution_count": 1,
   "metadata": {},
   "outputs": [
    {
     "name": "stdout",
     "output_type": "stream",
     "text": [
      "100\n"
     ]
    }
   ],
   "source": [
    "def maior(*args):\n",
    "    numeroAtual = 0\n",
    "    for numeroSucessor in args:\n",
    "        numeroAtual = qualMaiorNumero(numeroAtual, numeroSucessor)\n",
    "    return numeroAtual \n",
    "\n",
    "def qualMaiorNumero(numeroAtual, numeroSucessor):\n",
    "    if numeroAtual < numeroSucessor:\n",
    "        return numeroSucessor\n",
    "    else:\n",
    "        return numeroAtual\n",
    "\n",
    "maiorNumero = maior(4,5,32,3,6,3,5,7,54,100,2)\n",
    "\n",
    "print(maiorNumero)\n"
   ]
  }
 ],
 "metadata": {
  "kernelspec": {
   "display_name": "Python 3",
   "language": "python",
   "name": "python3"
  },
  "language_info": {
   "codemirror_mode": {
    "name": "ipython",
    "version": 3
   },
   "file_extension": ".py",
   "mimetype": "text/x-python",
   "name": "python",
   "nbconvert_exporter": "python",
   "pygments_lexer": "ipython3",
   "version": "3.12.2"
  }
 },
 "nbformat": 4,
 "nbformat_minor": 2
}
