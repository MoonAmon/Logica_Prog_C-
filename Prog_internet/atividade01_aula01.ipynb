{
 "cells": [
  {
   "cell_type": "code",
   "outputs": [],
   "source": [
    "import pandas as pd\n",
    "import datetime"
   ],
   "metadata": {
    "collapsed": false,
    "ExecuteTime": {
     "end_time": "2024-02-22T20:40:16.453913Z",
     "start_time": "2024-02-22T20:40:15.409765Z"
    }
   },
   "id": "7ca5a20a40705145",
   "execution_count": 1
  },
  {
   "cell_type": "markdown",
   "source": [
    "# Dados de paciente\n",
    "\n",
    "Desenvolva um código em Python para a ficha cadastral de um paciente, que atribua valores às variáveis e imprima-os na tela.\n",
    "\n",
    "O código deve conter necessariamente:\n",
    "\n",
    "- 5 tipos de dados diferentes;\n",
    "- Função para remoção de espaços à esquerda;\n",
    "- Aplicação da técnica de slicing;\n",
    "- Ao menos uma conversão de tipo de dados.\n",
    "\n",
    "Obs.: (O valor das variáveis pode ser atribuído no próprio código, não é necessário que o usuário efetue o input de dados)"
   ],
   "metadata": {
    "collapsed": false
   },
   "id": "fff7601215444974"
  },
  {
   "cell_type": "markdown",
   "source": [
    "| Nome   | Idade | Peso | Altura | Tem cadastro | Diagnostico        | Data de Atendimento |\n",
    "|--------|-------|------|--------|--------------|--------------------|---------------------|\n",
    "| Joana  | 24    | 89.3 | 1.75   | True         | Gripe              | 10/02/2024          |\n",
    "| Marcos | 35    | 75.1 | 1.80   | False        | Fratura no braço   | 15/02/2024          |\n",
    "| Ana    | 29    | 63.7 | 1.68   | True         | Resfriado          | 18/02/2024          |\n",
    "| Pedro  | 42    | 80.5 | 1.70   | True         | Dor de cabeça      | 20/02/2024          |\n",
    "| Luisa  | 19    | 55.2 | 1.60   | False        | Torção no tornozelo| 22/02/2024          |\n",
    "\n",
    "**Criei um csv dessa tabela**\n",
    "\n",
    "Tipos de dados\n",
    "\n",
    "- Nome: String\n",
    "- Idade: Int\n",
    "- Peso: Float\n",
    "- Altura: Float\n",
    "- Tem cadastro: String -> Boolean\n",
    "- Diagnostico: String\n",
    "- Data de Atendimento: String -> Datetime\n",
    "\n",
    "A pedido do medico os valores da coluna diagnostico deverar ter apenas uma palavra"
   ],
   "metadata": {
    "collapsed": false
   },
   "id": "72c9c86accfa6d95"
  },
  {
   "cell_type": "code",
   "outputs": [
    {
     "name": "stdout",
     "output_type": "stream",
     "text": [
      "<class 'pandas.core.frame.DataFrame'>\n",
      "RangeIndex: 5 entries, 0 to 4\n",
      "Data columns (total 7 columns):\n",
      " #   Column               Non-Null Count  Dtype         \n",
      "---  ------               --------------  -----         \n",
      " 0   Nome                 5 non-null      object        \n",
      " 1   Idade                5 non-null      int64         \n",
      " 2   Peso                 5 non-null      float64       \n",
      " 3   Altura               5 non-null      float64       \n",
      " 4   Tem cadastro         5 non-null      bool          \n",
      " 5   Diagnostico          5 non-null      object        \n",
      " 6   Data de Atendimento  5 non-null      datetime64[ns]\n",
      "dtypes: bool(1), datetime64[ns](1), float64(2), int64(1), object(2)\n",
      "memory usage: 377.0+ bytes\n"
     ]
    }
   ],
   "source": [
    "# Abrir csv e converter para dataframe\n",
    "ficha_cadastral = pd.read_csv('fichacadastral_paciente.csv', delimiter=',')\n",
    "\n",
    "# Convertendo tipos dos dados\n",
    "ficha_cadastral['Peso'] = ficha_cadastral['Peso'].astype(float)\n",
    "ficha_cadastral['Altura'] = ficha_cadastral['Altura'].astype(float)\n",
    "ficha_cadastral['Tem cadastro'] = ficha_cadastral['Tem cadastro'].astype(bool)\n",
    "ficha_cadastral['Data de Atendimento'] = pd.to_datetime(ficha_cadastral['Data de Atendimento'], format='%d/%m/%Y')\n",
    "\n",
    "# Slice coluna 'Diagnostico' para apenas a primeira palavra\n",
    "ficha_cadastral['Diagnostico'] = ficha_cadastral['Diagnostico'].str.split(expand=True)[0]\n",
    "\n",
    "# Check os tipos dos dados\n",
    "ficha_cadastral.info()"
   ],
   "metadata": {
    "collapsed": false,
    "ExecuteTime": {
     "end_time": "2024-02-22T21:01:12.075208Z",
     "start_time": "2024-02-22T21:01:12.062234Z"
    }
   },
   "id": "830148cc2bca3b4e",
   "execution_count": 6
  },
  {
   "cell_type": "code",
   "outputs": [],
   "source": [
    "%%sql\n"
   ],
   "metadata": {
    "collapsed": false,
    "SqlCellData": {
     "variableName$1": "df_sql1"
    }
   },
   "id": "757b0165c4beff3"
  },
  {
   "cell_type": "code",
   "outputs": [
    {
     "data": {
      "text/plain": "     Nome  Idade  Peso  Altura  Tem cadastro Diagnostico Data de Atendimento\n0   Joana     24  89.3    1.75          True       Gripe          2024-02-10\n1  Marcos     35  75.1    1.80         False     Fratura          2024-02-15\n2     Ana     29  63.7    1.68          True   Resfriado          2024-02-18\n3   Pedro     42  80.5    1.70          True         Dor          2024-02-20\n4   Luisa     19  55.2    1.60         False      Torção          2024-02-22",
      "text/html": "<div>\n<style scoped>\n    .dataframe tbody tr th:only-of-type {\n        vertical-align: middle;\n    }\n\n    .dataframe tbody tr th {\n        vertical-align: top;\n    }\n\n    .dataframe thead th {\n        text-align: right;\n    }\n</style>\n<table border=\"1\" class=\"dataframe\">\n  <thead>\n    <tr style=\"text-align: right;\">\n      <th></th>\n      <th>Nome</th>\n      <th>Idade</th>\n      <th>Peso</th>\n      <th>Altura</th>\n      <th>Tem cadastro</th>\n      <th>Diagnostico</th>\n      <th>Data de Atendimento</th>\n    </tr>\n  </thead>\n  <tbody>\n    <tr>\n      <th>0</th>\n      <td>Joana</td>\n      <td>24</td>\n      <td>89.3</td>\n      <td>1.75</td>\n      <td>True</td>\n      <td>Gripe</td>\n      <td>2024-02-10</td>\n    </tr>\n    <tr>\n      <th>1</th>\n      <td>Marcos</td>\n      <td>35</td>\n      <td>75.1</td>\n      <td>1.80</td>\n      <td>False</td>\n      <td>Fratura</td>\n      <td>2024-02-15</td>\n    </tr>\n    <tr>\n      <th>2</th>\n      <td>Ana</td>\n      <td>29</td>\n      <td>63.7</td>\n      <td>1.68</td>\n      <td>True</td>\n      <td>Resfriado</td>\n      <td>2024-02-18</td>\n    </tr>\n    <tr>\n      <th>3</th>\n      <td>Pedro</td>\n      <td>42</td>\n      <td>80.5</td>\n      <td>1.70</td>\n      <td>True</td>\n      <td>Dor</td>\n      <td>2024-02-20</td>\n    </tr>\n    <tr>\n      <th>4</th>\n      <td>Luisa</td>\n      <td>19</td>\n      <td>55.2</td>\n      <td>1.60</td>\n      <td>False</td>\n      <td>Torção</td>\n      <td>2024-02-22</td>\n    </tr>\n  </tbody>\n</table>\n</div>"
     },
     "execution_count": 7,
     "metadata": {},
     "output_type": "execute_result"
    }
   ],
   "source": [
    "ficha_cadastral"
   ],
   "metadata": {
    "collapsed": false,
    "ExecuteTime": {
     "end_time": "2024-02-22T21:01:17.083490Z",
     "start_time": "2024-02-22T21:01:17.074447Z"
    }
   },
   "id": "599eb537f18f36a1",
   "execution_count": 7
  },
  {
   "cell_type": "markdown",
   "source": [
    "f"
   ],
   "metadata": {
    "collapsed": false
   },
   "id": "2d8e10fa14ef342f"
  }
 ],
 "metadata": {
  "kernelspec": {
   "display_name": "Python 3",
   "language": "python",
   "name": "python3"
  },
  "language_info": {
   "codemirror_mode": {
    "name": "ipython",
    "version": 2
   },
   "file_extension": ".py",
   "mimetype": "text/x-python",
   "name": "python",
   "nbconvert_exporter": "python",
   "pygments_lexer": "ipython2",
   "version": "2.7.6"
  }
 },
 "nbformat": 4,
 "nbformat_minor": 5
}
