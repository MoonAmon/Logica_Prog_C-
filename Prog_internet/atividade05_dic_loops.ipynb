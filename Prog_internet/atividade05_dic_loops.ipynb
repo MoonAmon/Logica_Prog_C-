{
 "cells": [
  {
   "cell_type": "markdown",
   "metadata": {},
   "source": [
    "# Exercício 2 - Aula 4 (Dicionários e repetições)"
   ]
  },
  {
   "cell_type": "markdown",
   "metadata": {},
   "source": [
    "Escreva um código em Python para coletar as respostas de uma enquete e salvá-las num dicionário.\n",
    "O código deve solicitar o nome do entrevistado e perguntar se ele já teve dengue.\n",
    "\n",
    "Regras:\n",
    "\n",
    "  - O entrevistador pode entrevistar quantas pessoas desejar;\n",
    "  - Ao final da entrevista, para cada entrevistado, o código deve apresentar sua respectiva resposta"
   ]
  },
  {
   "cell_type": "code",
   "execution_count": 2,
   "metadata": {},
   "outputs": [
    {
     "name": "stdout",
     "output_type": "stream",
     "text": [
      "{'Joao': True, 'maria': False, 'loucees': True, 'mouno': True, 'durasew': False}\n"
     ]
    }
   ],
   "source": [
    "# Criar um dicionário com o nome do entrevistado como chave e a resposta se já teve dengue como valor\n",
    "entrevistaDengue = {}\n",
    "\n",
    "# Pedir a quantidade de entrevistados\n",
    "quantidadeEntrevistados = int(input(\"Digite a quantidade de entrevistados: \"))\n",
    "    \n",
    "for i in range(quantidadeEntrevistados):\n",
    "\n",
    "    # Pedir o nome do entrevistado\n",
    "    nomeEntrevistadoTemp = input(\"Digite o nome do entrevistado: \").title()\n",
    "\n",
    "    # Colocar o nome do entrevistado no dicionário como chave e a resposta se já teve dengue como valor\n",
    "    entrevistaDengue[nomeEntrevistadoTemp] = input(\"Você já teve dengue? 1 - Sim, 2 - Não: \")\n",
    "\n",
    "    # Verificar se a resposta é válida\n",
    "    if entrevistaDengue[nomeEntrevistadoTemp] == \"1\":\n",
    "        entrevistaDengue[nomeEntrevistadoTemp] = True\n",
    "    elif entrevistaDengue[nomeEntrevistadoTemp] == \"2\":\n",
    "        entrevistaDengue[nomeEntrevistadoTemp] = False\n",
    "    else:\n",
    "        i-=1\n",
    "        print(\"Opção inválida\")\n",
    "\n",
    "print(entrevistaDengue)"
   ]
  }
 ],
 "metadata": {
  "kernelspec": {
   "display_name": "Python 3",
   "language": "python",
   "name": "python3"
  },
  "language_info": {
   "codemirror_mode": {
    "name": "ipython",
    "version": 3
   },
   "file_extension": ".py",
   "mimetype": "text/x-python",
   "name": "python",
   "nbconvert_exporter": "python",
   "pygments_lexer": "ipython3",
   "version": "3.12.2"
  }
 },
 "nbformat": 4,
 "nbformat_minor": 2
}
