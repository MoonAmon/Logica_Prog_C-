{
 "cells": [
  {
   "cell_type": "markdown",
   "metadata": {},
   "source": [
    "# Exercício 2 - Aula 4 (Dicionários e repetições)"
   ]
  },
  {
   "cell_type": "markdown",
   "metadata": {},
   "source": [
    "Escreva um código em Python para efetuar as quatro operações básicas (soma, adição, multiplicação e divisão).\n",
    "Para isso, utilize uma função chamada calculadora(), que receberá 3 parâmetros, são eles:\n",
    "- O primeiro número;\n",
    "- O operador;\n",
    "- O segundo número.\n",
    "- Obs.: Para chamar a função calculadora, você deverá utilizar a chamada nomeada.\n",
    "    \n",
    "Após receber os parâmetros do usuário, a função calculadora() deve invocar uma função específica para cada operador..\n",
    "As funções específicas, devem efetuar a operação e retornar o valor para a função principal, que\n",
    "apresentará o resultado na tela para o usuário."
   ]
  },
  {
   "cell_type": "code",
   "execution_count": null,
   "metadata": {},
   "outputs": [],
   "source": [
    "def calculadora(firstNumber, mathOperator, secondNumber):\n",
    "    if mathOperator == '+':\n",
    "        return twoNumbersSum(firstNumber, secondNumber)\n",
    "    elif mathOperator == '-':\n",
    "        return twoNumbersSubtration(firstNumber, secondNumber)\n",
    "    elif mathOperator == '/':\n",
    "        return twoNumberDivision(firstNumber, secondNumber)\n",
    "    elif mathOperator == '*':\n",
    "        return twoNumbersMultiplication(firstNumber, secondNumber)\n",
    "\n",
    "def twoNumbersSum(firstNumber, secondNumber):\n",
    "    return firstNumber + secondNumber\n",
    "\n",
    "def twoNumbersSubtration(firstNumber, secondNumber):\n",
    "    return firstNumber - secondNumber\n",
    "\n",
    "def twoNumbersMultiplication(firstNumber, secondNumber):\n",
    "    return firstNumber * secondNumber\n",
    "\n",
    "def twoNumberDivision(firstNumber, secondNumber):\n",
    "    return firstNumber / secondNumber"
   ]
  }
 ],
 "metadata": {
  "language_info": {
   "name": "python"
  }
 },
 "nbformat": 4,
 "nbformat_minor": 2
}
