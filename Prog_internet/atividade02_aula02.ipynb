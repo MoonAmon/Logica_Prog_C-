{
 "cells": [
  {
   "cell_type": "markdown",
   "source": [
    "# Lista paises\n",
    "\n",
    "Escreva um código em Python que:\n",
    "\n",
    "1. Defina uma lista com 7 países;\n",
    "2. Adicione um país ao final da lista;\n",
    "3. Remova um país pelo índex;\n",
    "4. Remova um país por passagem de parâmetro;\n",
    "5. Adicione um país no meio da lista.\n",
    "    "
   ],
   "metadata": {
    "collapsed": false
   },
   "id": "61cdab0939bc5bed"
  },
  {
   "cell_type": "code",
   "outputs": [
    {
     "name": "stdout",
     "output_type": "stream",
     "text": [
      "['Brasil', 'Russia', 'Alemanha', 'Chile', 'Argentina', 'Japão', 'China']\n"
     ]
    }
   ],
   "source": [
    "# Definir uma com 7 países\n",
    "lista_paises = ['Brasil', 'Russia', 'USA', 'Tailandia', 'Alemanha','Argentina','Japão']\n",
    "\n",
    "# Adicionar um país ao final da lista\n",
    "lista_paises.append('China')\n",
    "\n",
    "# Remover um país pelo index\n",
    "lista_paises.pop(2)\n",
    "\n",
    "# Removar um país por passagem de parâmetro\n",
    "pais_a_apagar = int(input(\"Digite o index do pais a apagar: \"))\n",
    "lista_paises.pop(pais_a_apagar)\n",
    "\n",
    "# Adicione um país no meio da lista\n",
    "tamanho_lista = len(lista_paises)\n",
    "index_meio_lista = tamanho_lista // 2\n",
    "lista_paises.insert(index_meio_lista, 'Chile')\n",
    "\n",
    "# Exibir lista\n",
    "print(lista_paises)"
   ],
   "metadata": {
    "collapsed": false,
    "ExecuteTime": {
     "end_time": "2024-02-22T22:02:49.149424Z",
     "start_time": "2024-02-22T22:02:46.722186Z"
    }
   },
   "id": "a08357f46c8eb62c",
   "execution_count": 3
  }
 ],
 "metadata": {
  "kernelspec": {
   "display_name": "Python 3",
   "language": "python",
   "name": "python3"
  },
  "language_info": {
   "codemirror_mode": {
    "name": "ipython",
    "version": 2
   },
   "file_extension": ".py",
   "mimetype": "text/x-python",
   "name": "python",
   "nbconvert_exporter": "python",
   "pygments_lexer": "ipython2",
   "version": "2.7.6"
  }
 },
 "nbformat": 4,
 "nbformat_minor": 5
}
