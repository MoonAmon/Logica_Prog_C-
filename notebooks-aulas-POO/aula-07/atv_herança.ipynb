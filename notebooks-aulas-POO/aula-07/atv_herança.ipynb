{
 "cells": [
  {
   "cell_type": "markdown",
   "metadata": {},
   "source": [
    "# Atividade 10 - Herança - POO"
   ]
  },
  {
   "cell_type": "code",
   "execution_count": 1,
   "metadata": {},
   "outputs": [
    {
     "data": {
      "text/plain": [
       "'Bruxa'"
      ]
     },
     "execution_count": 1,
     "metadata": {},
     "output_type": "execute_result"
    }
   ],
   "source": [
    "# Criando classe cliente\n",
    "class Cliente:\n",
    "    def __init__(self, nome, id):\n",
    "        self.nome = nome\n",
    "        self.id = id\n",
    "    \n",
    "    def set_nome(self, novo_nome):\n",
    "        self.nome = novo_nome\n",
    "    \n",
    "    def get_nome(self):\n",
    "        return self.nome\n",
    "    \n",
    "    def set_id(self, novo_id):\n",
    "        self.id = novo_id\n",
    "\n",
    "    def get_id(self):\n",
    "        return self.id\n",
    "    \n",
    "# Intanciando 3 objetos Clientes\n",
    "cliente1 = Cliente('Joao','456')\n",
    "cliente2 = Cliente('Maria','343')\n",
    "cliente3 = Cliente('Bruxa','666')\n",
    "\n",
    "# Mostrando o atributo id de cada objeto\n",
    "cliente1.get_id()\n",
    "cliente2.get_id()\n",
    "cliente3.get_id()\n",
    "\n",
    "# Mostrando o atributo nome de cada objeto\n",
    "cliente1.get_nome()\n",
    "cliente2.get_nome()\n",
    "cliente3.get_nome()"
   ]
  },
  {
   "cell_type": "code",
   "execution_count": 9,
   "metadata": {},
   "outputs": [
    {
     "name": "stdout",
     "output_type": "stream",
     "text": [
      "Preco imovel novo R$1000000\n",
      "Preço imovel velho R$350000\n"
     ]
    }
   ],
   "source": [
    "# Criando a classe Imovel\n",
    "class Imovel:\n",
    "    def __init__(self, endereco, preco):\n",
    "        self.endereco = endereco\n",
    "        self.preco = preco\n",
    "\n",
    "# Criando subclasse Novo\n",
    "class Novo(Imovel):\n",
    "    def __init__(self, endereco, preco):\n",
    "        super().__init__(endereco, preco)\n",
    "\n",
    "    def setPrecoAdc(self, preco_adc):\n",
    "        self.preco += preco_adc\n",
    "    \n",
    "    def imprimirPreco(self):\n",
    "        print(f\"Preco imovel novo R${self.preco}\")\n",
    "\n",
    "# Criando subclasse Velho\n",
    "class Velho(Imovel):\n",
    "    def __init__(self, endereco, preco):\n",
    "        super().__init__(endereco, preco)\n",
    "    \n",
    "    def setDesconto(self, valor_desc):\n",
    "        self.preco -= valor_desc\n",
    "    \n",
    "    def imprimirPreco(self):\n",
    "        print(f\"Preço imovel velho R${self.preco}\")\n",
    "\n",
    "# Populando objeto imovel novo\n",
    "imovel_1 = Novo('Lua', 500000)\n",
    "imovel_1.setPrecoAdc(500000)\n",
    "\n",
    "# Populando objeto imovel velho\n",
    "imovel_2 = Velho('Marte', 400000)\n",
    "imovel_2.setDesconto(50000)\n",
    "\n",
    "# Imprimindo preços dos objetos\n",
    "imovel_1.imprimirPreco()\n",
    "imovel_2.imprimirPreco()\n"
   ]
  },
  {
   "cell_type": "code",
   "execution_count": 8,
   "metadata": {},
   "outputs": [
    {
     "name": "stdout",
     "output_type": "stream",
     "text": [
      "Valor ingresso R$450.99\n",
      "Valor ingresso VIP R$650.99\n"
     ]
    }
   ],
   "source": [
    "# Criando a classe Ingresso\n",
    "class Ingresso:\n",
    "    def __init__(self, valor):\n",
    "        self.valor = float(valor)\n",
    "    \n",
    "    def imprimirDados(self):\n",
    "        print(f'Valor ingresso R${round(self.valor, 2)}')\n",
    "\n",
    "# Criando a classe filha IngressoVIP\n",
    "class IngressoVIP(Ingresso):\n",
    "    def __init__(self, valor, valor_adc):\n",
    "        super().__init__(valor)\n",
    "        self.valor_adc = float(valor_adc)\n",
    "    \n",
    "    def imprimirDados(self):\n",
    "        print(f'Valor ingresso VIP R${round((self.valor + self.valor_adc), 2)}')\n",
    "\n",
    "# Instanciando os objetos\n",
    "ingresso1 = Ingresso(450.99)\n",
    "ingresso2 = IngressoVIP(450.99, 200)\n",
    "\n",
    "# Chamando o método imprimir dados\n",
    "ingresso1.imprimirDados()\n",
    "ingresso2.imprimirDados()"
   ]
  }
 ],
 "metadata": {
  "kernelspec": {
   "display_name": "Python 3",
   "language": "python",
   "name": "python3"
  },
  "language_info": {
   "codemirror_mode": {
    "name": "ipython",
    "version": 3
   },
   "file_extension": ".py",
   "mimetype": "text/x-python",
   "name": "python",
   "nbconvert_exporter": "python",
   "pygments_lexer": "ipython3",
   "version": "3.12.0"
  }
 },
 "nbformat": 4,
 "nbformat_minor": 2
}
