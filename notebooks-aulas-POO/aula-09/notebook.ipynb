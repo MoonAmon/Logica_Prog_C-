{
 "cells": [
  {
   "cell_type": "markdown",
   "metadata": {},
   "source": [
    "# Classes e métodos Abstratos"
   ]
  },
  {
   "cell_type": "markdown",
   "metadata": {},
   "source": [
    "### 3 - Implemente as classes conforme o diagrama abaixo:\n",
    "<div>\n",
    "    <img src='Untitled.png'>\n",
    "</div>"
   ]
  },
  {
   "cell_type": "code",
   "execution_count": 6,
   "metadata": {},
   "outputs": [
    {
     "name": "stdout",
     "output_type": "stream",
     "text": [
      "Nome: João, CPF: 123456789\n",
      "Nome: João, CPF: 123456789\n"
     ]
    }
   ],
   "source": [
    "from abc import ABC, abstractmethod\n",
    "\n",
    "class Pessoa(ABC):\n",
    "    def __init__(self, nome, telefone, endereco) -> None:\n",
    "        self._nome = nome\n",
    "        self._telefone = telefone\n",
    "        self._endereco = endereco\n",
    "    \n",
    "    @abstractmethod\n",
    "    def toString(self) -> str:\n",
    "        pass\n",
    "\n",
    "class PessoaFisica(Pessoa):\n",
    "    def __init__(self, nome, telefone, endereco, cpf) -> None:\n",
    "        super().__init__(nome, telefone, endereco)\n",
    "        self.cpf = cpf\n",
    "    \n",
    "    def toString(self) -> str:\n",
    "        return f\"Nome: {self._nome}, CPF: {self.cpf}\"\n",
    "\n",
    "class PessoaJuridica(Pessoa):\n",
    "    def __init__(self, nome, telefone, endereco) -> None:\n",
    "        super().__init__(nome, telefone, endereco)\n",
    "        self.cnpj = self.cnpj\n",
    "    \n",
    "    def toString(self) -> str:\n",
    "        return f\"Nome: {self._nome}, CNPJ: {self.cnpj}\"\n",
    "\n",
    "testar.criar_pessoa_fisica('João', 43559984, 'Lake Salt City', '123456789')\n",
    "for pessoa in testar.pessoas:\n",
    "    print(pessoa.toString())\n"
   ]
  },
  {
   "cell_type": "markdown",
   "metadata": {},
   "source": [
    "### 4 - Implemente o diagrama de classes a seguir:\n",
    "<img src='Untitled2.png'>\n"
   ]
  },
  {
   "cell_type": "code",
   "execution_count": 7,
   "metadata": {},
   "outputs": [
    {
     "name": "stdout",
     "output_type": "stream",
     "text": [
      "80\n"
     ]
    }
   ],
   "source": [
    "class FormaGeometrica(ABC):\n",
    "\n",
    "    def __init__(self) -> None:\n",
    "        pass\n",
    "\n",
    "    @abstractmethod\n",
    "    def calcularArea(self) -> float:\n",
    "        pass\n",
    "\n",
    "    @abstractmethod\n",
    "    def calcularPerimetro(self) -> float:\n",
    "        pass\n",
    "\n",
    "class Circulo(FormaGeometrica):\n",
    "    PI = 3.1415\n",
    "\n",
    "    def __init__(self, raio) -> None:\n",
    "        super().__init__()\n",
    "        self.raio = raio\n",
    "    \n",
    "    def calcularPerimetro(self) -> float:\n",
    "        return self.PI * (self.raio * self.raio)\n",
    "\n",
    "    def calcularArea(self) -> float:\n",
    "        return 2 * self.PI * self.raio\n",
    "\n",
    "class Quadrado(FormaGeometrica):\n",
    "\n",
    "    def __init__(self,lado) -> None:\n",
    "        super().__init__()\n",
    "        self.lado = lado\n",
    "\n",
    "    def calcularPerimetro(self) -> float:\n",
    "        return 4 * self.lado\n",
    "\n",
    "    def calcularArea(self) -> float:\n",
    "        return self.lado * self.lado \n",
    "\n",
    "quadrado_1 = Quadrado(20)\n",
    "print(quadrado_1.calcularPerimetro())"
   ]
  },
  {
   "cell_type": "markdown",
   "metadata": {},
   "source": [
    "## Implemente as classes e interface do diagrama a seguir:\n",
    "<img src='Untitled3.png'>"
   ]
  },
  {
   "cell_type": "code",
   "execution_count": 8,
   "metadata": {},
   "outputs": [],
   "source": [
    "import math\n",
    "\n",
    "class OperacaoMatematica(ABC):\n",
    "    def __init__(self) -> None:\n",
    "        pass\n",
    "\n",
    "    @abstractmethod\n",
    "    def calcula(self, a:int, b:int) -> int:\n",
    "        pass\n",
    "\n",
    "class Soma(OperacaoMatematica):\n",
    "    def __init__(self) -> None:\n",
    "        super().__init__()\n",
    "\n",
    "    def calcula(self, a: int, b: int) -> int:\n",
    "        return a + b\n",
    "\n",
    "class Subtracao(OperacaoMatematica):\n",
    "    def __init__(self) -> None:\n",
    "        super().__init__()\n",
    "\n",
    "    def calcula(self, a: int, b: int) -> int:\n",
    "        return a - b \n",
    "\n",
    "class Multiplicacao(OperacaoMatematica):\n",
    "    def __init__(self) -> None:\n",
    "        super().__init__()\n",
    "\n",
    "    def calcula(self, a: int, b: int) -> int:\n",
    "        return a * b\n",
    "\n",
    "class Divisão(OperacaoMatematica):\n",
    "    def __init__(self) -> None:\n",
    "        super().__init__() \n",
    "    \n",
    "    def calcula(self, a: int, b: int) -> int:\n",
    "        return a // b "
   ]
  },
  {
   "cell_type": "markdown",
   "metadata": {},
   "source": [
    "## Implemente as classes e interface do diagrama a seguir:\n",
    "<img src='Untitled4.png'>"
   ]
  },
  {
   "cell_type": "code",
   "execution_count": 11,
   "metadata": {},
   "outputs": [
    {
     "name": "stdout",
     "output_type": "stream",
     "text": [
      "Raio: 23.4 Comprimento: 147.0222 Area: 1720.1597399999998\n"
     ]
    },
    {
     "data": {
      "text/plain": [
       "3.1415"
      ]
     },
     "execution_count": 11,
     "metadata": {},
     "output_type": "execute_result"
    }
   ],
   "source": [
    "class FormaGeometrica(ABC):\n",
    "\n",
    "    def __init__(self) -> None:\n",
    "        super().__init__()\n",
    "    \n",
    "    @abstractmethod\n",
    "    def area(self) -> float:\n",
    "        pass\n",
    "\n",
    "    def comprimento(self) -> float:\n",
    "        pass\n",
    "\n",
    "class Impressao(ABC):\n",
    "\n",
    "    def __init__(self) -> None:\n",
    "        super().__init__()\n",
    "    \n",
    "    @abstractmethod\n",
    "    def imprimirDados(self):\n",
    "        pass\n",
    "\n",
    "class Circulo(FormaGeometrica, Impressao):\n",
    "\n",
    "    PI = 3.1415\n",
    "\n",
    "    def __init__(self, raio) -> None:\n",
    "        self.raio = raio\n",
    "        super().__init__()\n",
    "\n",
    "    def area(self) -> float:\n",
    "        return self.PI * (self.raio ** 2)\n",
    "    \n",
    "    def comprimento(self) -> float:\n",
    "        return 2 * self.PI * self.raio\n",
    "    \n",
    "    def imprimirDados(self) -> None:\n",
    "        print(f\"Raio: {self.raio} Comprimento: {self.comprimento()} Area: {self.area()}\")\n",
    "\n",
    "class Quadrado(FormaGeometrica):\n",
    "\n",
    "    def __init__(self, lado) -> None:\n",
    "        self.lado = lado\n",
    "        super().__init__()\n",
    "    \n",
    "    def area(self) -> float:\n",
    "        return self.lado * self.lado \n",
    "    \n",
    "    def comprimento(self) -> float:\n",
    "        return self.lado\n",
    "    \n",
    "test_ciculo = Circulo(23.40)\n",
    "test_ciculo.imprimirDados()\n",
    "test_ciculo.PI\n"
   ]
  },
  {
   "cell_type": "markdown",
   "metadata": {},
   "source": [
    "##  Dado o diagrama UML da Figura 1.1, construir um programa capaz de simular o funcionamento de folha de pagamento com quatro classes de trabalhadores: Empregado, PorHora, PorComissão e PorHoraeComissao. A classe Empregado deve ser abstrata, pois o método getPay(), que retorna o quanto cada tipo de empregado deve ganhar, só poderá ser definido nas subclasses. Desse modo, a classe Empregado deve ser declarada abstrata. Para todas as classes cujo ganho dos trabalhadores está relacionado com a comissão relativa ao montante de vendas (PorComissão e PorHoraeComissao), deve-se empregar o método setVendas e a informação contida no campo COMMISSION RATE. Por último, a classe FolhadePagamento (classe Teste com o método principal) emprega objetos de todas as classes. Uma visão geral do programa é dada no diagrama UML da Figura 1.1.\n",
    "<img src='Untitled5.png'>\n"
   ]
  },
  {
   "cell_type": "code",
   "execution_count": 12,
   "metadata": {},
   "outputs": [],
   "source": [
    "class Commisions(ABC):\n",
    "\n",
    "    COMMISSION_RATE = 0.10\n",
    "\n",
    "    @abstractmethod\n",
    "    def setVendas(self):\n",
    "        pass\n",
    "\n",
    "class Empregado(ABC):\n",
    "\n",
    "    def __init__(self, name) -> None:\n",
    "        self.name = name\n",
    "        super().__init__()\n",
    "    \n",
    "    @abstractmethod\n",
    "    def Empregado(self, name):\n",
    "        pass\n",
    "\n",
    "    @abstractmethod\n",
    "    def printPay(self) -> None:\n",
    "        pass\n",
    "\n",
    "    @abstractmethod\n",
    "    def getPay(self) -> float:\n",
    "        pass\n",
    "\n",
    "class PorComissao(Commisions, Empregado):\n",
    "\n",
    "    def __init__(self, name, sales) -> None:\n",
    "        super().__init__(name)\n",
    "        self.sales = sales\n",
    "    \n",
    "    def setVendas(self, vendas) -> float:\n",
    "        self.sales = vendas\n",
    "    \n",
    "    def getPay(self) -> float:\n",
    "        return self.sales * self.COMMISSION_RATE\n",
    "    \n",
    "class PorHora(Empregado):\n",
    "\n",
    "    def __init__(self, name, valorHora, numHora) -> None:\n",
    "        super().__init__(name)\n",
    "        self.valorHora = valorHora\n",
    "        self.numHora = numHora\n",
    "    \n",
    "    def porHora(self):\n",
    "        return self.valorHora\n",
    "    \n",
    "    def setValorHora(self, valorHora):\n",
    "        self.valorHora = valorHora\n",
    "    \n",
    "    def setNumHora(self, numHora):\n",
    "        self.numHora = numHora\n",
    "    \n",
    "    def getValorHora(self):\n",
    "        return self.valorHora\n",
    "    \n",
    "    def getNumHora(self):\n",
    "        return self.numHora\n",
    "    \n",
    "    def getPay(self) -> float:\n",
    "        return self.numHora * self.valorHora \n",
    "\n",
    "class PorHoraComissao(Commisions, PorHora):\n",
    "\n",
    "    def __init__(self, name, valorHora, numHora, sales) -> None:\n",
    "        self.sales = sales\n",
    "        super().__init__(name, valorHora, numHora)\n",
    "    \n",
    "    def porHoraComissao(self):\n",
    "        return self.COMMISSION_RATE * self.valorHora * self.numHora\n",
    "    \n",
    "    def setVandas(self, vendas):\n",
    "        self.sales = vendas\n",
    "    \n",
    "    def printPay(self) -> None:\n",
    "        print(f\"Comissões de horas à pagar R${self.porHoraComissao() * self.numHora}\")\n",
    "    \n",
    "    def getPay(self) -> float:\n",
    "        return self.porHoraComissao() * self.numHora()\n",
    "    \n",
    "class FolhadePagamento(PorComissao, PorHora, Empregado):\n",
    "    pass\n"
   ]
  }
 ],
 "metadata": {
  "kernelspec": {
   "display_name": "Python 3",
   "language": "python",
   "name": "python3"
  },
  "language_info": {
   "codemirror_mode": {
    "name": "ipython",
    "version": 3
   },
   "file_extension": ".py",
   "mimetype": "text/x-python",
   "name": "python",
   "nbconvert_exporter": "python",
   "pygments_lexer": "ipython3",
   "version": "3.12.0"
  }
 },
 "nbformat": 4,
 "nbformat_minor": 2
}
