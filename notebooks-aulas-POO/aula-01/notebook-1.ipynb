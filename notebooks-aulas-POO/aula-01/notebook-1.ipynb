{
 "cells": [
  {
   "cell_type": "markdown",
   "id": "3909bf3e8e41d631",
   "metadata": {
    "collapsed": false,
    "jupyter": {
     "outputs_hidden": false
    }
   },
   "source": [
    "# Introdução Python POO\n"
   ]
  },
  {
   "cell_type": "code",
   "execution_count": 1,
   "id": "259dd0f2447c181f",
   "metadata": {
    "ExecuteTime": {
     "end_time": "2023-08-23T18:55:28.343546286Z",
     "start_time": "2023-08-23T18:55:28.174801085Z"
    },
    "collapsed": false,
    "editable": true,
    "jupyter": {
     "outputs_hidden": false
    },
    "slideshow": {
     "slide_type": ""
    },
    "tags": []
   },
   "outputs": [
    {
     "name": "stdout",
     "output_type": "stream",
     "text": [
      "Nome: Thiago Amancio Reis Caetano\n",
      "Endereço: Gama\n",
      "Número: (61) 92003-9428\n"
     ]
    }
   ],
   "source": [
    "nome = 'Thiago Amancio Reis Caetano'\n",
    "endereco = 'Gama'\n",
    "numero = '(61) 92003-9428'\n",
    "\n",
    "print(\"Nome: \" + nome + '\\n'+\n",
    "      \"Endereço: \" + endereco + '\\n'+\n",
    "      \"Número: \" + numero + '\\n')"
   ]
  },
  {
   "cell_type": "code",
   "execution_count": 2,
   "id": "525325b368917681",
   "metadata": {
    "ExecuteTime": {
     "end_time": "2023-08-23T18:55:28.349476642Z",
     "start_time": "2023-08-23T18:55:28.214489946Z"
    },
    "collapsed": false,
    "jupyter": {
     "outputs_hidden": false
    }
   },
   "outputs": [
    {
     "name": "stdout",
     "output_type": "stream",
     "text": [
      "1204\n"
     ]
    }
   ],
   "source": [
    "print(28 * 43)"
   ]
  },
  {
   "cell_type": "code",
   "execution_count": 3,
   "id": "2bf2ba3aa626a14b",
   "metadata": {
    "ExecuteTime": {
     "end_time": "2023-08-23T18:55:28.351481615Z",
     "start_time": "2023-08-23T18:55:28.215309649Z"
    },
    "collapsed": false,
    "jupyter": {
     "outputs_hidden": false
    }
   },
   "outputs": [
    {
     "name": "stdout",
     "output_type": "stream",
     "text": [
      "8.0\n"
     ]
    }
   ],
   "source": [
    "print((8+9+7)/3)"
   ]
  },
  {
   "cell_type": "code",
   "execution_count": 4,
   "id": "c386ff8fa39a8e9e",
   "metadata": {
    "ExecuteTime": {
     "end_time": "2023-08-23T18:55:28.353927244Z",
     "start_time": "2023-08-23T18:55:28.233150760Z"
    },
    "collapsed": false,
    "jupyter": {
     "outputs_hidden": false
    }
   },
   "outputs": [
    {
     "name": "stdout",
     "output_type": "stream",
     "text": [
      "É PRECISO FAZER TODOS OS ALGORITMOS PARA APRENDER\n"
     ]
    }
   ],
   "source": [
    "print(\"É PRECISO FAZER TODOS OS ALGORITMOS PARA APRENDER\")"
   ]
  },
  {
   "cell_type": "code",
   "execution_count": 5,
   "id": "cd570f3d2d4b5027",
   "metadata": {
    "ExecuteTime": {
     "end_time": "2023-08-23T18:55:31.896750226Z",
     "start_time": "2023-08-23T18:55:28.280981984Z"
    },
    "collapsed": false,
    "jupyter": {
     "outputs_hidden": false
    }
   },
   "outputs": [
    {
     "name": "stdout",
     "output_type": "stream",
     "text": [
      "O antecessor de 10 é 9\n",
      "O sucessor de 10 é 11\n"
     ]
    }
   ],
   "source": [
    "numero = input(\"Digite um número: \")\n",
    "print(\"O antecessor de \" + str(numero) + \" é \" + str(int(numero) - 1))\n",
    "print(\"O sucessor de \" + str(numero) + \" é \" + str(int(numero) + 1))"
   ]
  },
  {
   "cell_type": "code",
   "execution_count": 6,
   "id": "60831596431c8882",
   "metadata": {
    "ExecuteTime": {
     "end_time": "2023-08-23T18:55:53.505143743Z",
     "start_time": "2023-08-23T18:55:31.244629982Z"
    },
    "collapsed": false,
    "jupyter": {
     "outputs_hidden": false
    }
   },
   "outputs": [
    {
     "name": "stdout",
     "output_type": "stream",
     "text": [
      "Nome: Moon\n",
      "Endereço: Solar System\n",
      "Número: 42\n"
     ]
    }
   ],
   "source": [
    "nome = input(\"Digite seu nome: \") \n",
    "endereco = input(\"Digite seu endereço: \")\n",
    "numero = input(\"Digite sue número de contato: \") \n",
    "\n",
    "print(\"Nome: \" + nome + '\\n'+\n",
    "      \"Endereço: \" + endereco + '\\n'+\n",
    "      \"Número: \" + numero + '\\n')"
   ]
  },
  {
   "cell_type": "code",
   "execution_count": 7,
   "id": "c03286628b900bb2",
   "metadata": {
    "ExecuteTime": {
     "end_time": "2023-08-23T18:55:57.870343039Z",
     "start_time": "2023-08-23T18:55:53.479349264Z"
    },
    "collapsed": false,
    "jupyter": {
     "outputs_hidden": false
    }
   },
   "outputs": [
    {
     "name": "stdout",
     "output_type": "stream",
     "text": [
      "Soma: 57\n"
     ]
    }
   ],
   "source": [
    "num1 = int(input(\"Digite o primeiro número para soma: \"))\n",
    "num2 = int(input(\"Digite o segundo número para soma: \"))\n",
    "soma = str(num1 + num2)\n",
    "print(\"Soma: \" + soma)"
   ]
  }
 ],
 "metadata": {
  "kernelspec": {
   "display_name": "Python 3 (ipykernel)",
   "language": "python",
   "name": "python3"
  },
  "language_info": {
   "codemirror_mode": {
    "name": "ipython",
    "version": 3
   },
   "file_extension": ".py",
   "mimetype": "text/x-python",
   "name": "python",
   "nbconvert_exporter": "python",
   "pygments_lexer": "ipython3",
   "version": "3.10.12"
  }
 },
 "nbformat": 4,
 "nbformat_minor": 5
}
