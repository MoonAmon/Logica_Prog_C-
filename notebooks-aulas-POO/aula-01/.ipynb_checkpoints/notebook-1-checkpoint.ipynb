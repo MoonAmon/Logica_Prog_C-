{
 "cells": [
  {
   "cell_type": "markdown",
   "source": [
    "# Introdução Python POO\n"
   ],
   "metadata": {
    "collapsed": false
   },
   "id": "3909bf3e8e41d631"
  },
  {
   "cell_type": "code",
   "execution_count": 2,
   "outputs": [
    {
     "name": "stdout",
     "output_type": "stream",
     "text": [
      "Nome: Thiago Amancio Reis Caetano\n",
      "Endereço: Gama\n",
      "Número:(61) 92003-9428\n"
     ]
    }
   ],
   "source": [
    "nome = 'Thiago Amancio Reis Caetano'\n",
    "endereco = 'Gama'\n",
    "numero = '(61) 92003-9428'\n",
    "\n",
    "print(\"Nome: \" + nome + '\\n'+\n",
    "      \"Endereço: \" + endereco + '\\n'+\n",
    "      \"Número:\" + numero + '\\n')"
   ],
   "metadata": {
    "collapsed": false,
    "ExecuteTime": {
     "end_time": "2023-08-23T18:23:26.868475848Z",
     "start_time": "2023-08-23T18:23:26.140473719Z"
    }
   },
   "id": "259dd0f2447c181f"
  },
  {
   "cell_type": "code",
   "execution_count": 3,
   "outputs": [
    {
     "name": "stdout",
     "output_type": "stream",
     "text": [
      "1204\n"
     ]
    }
   ],
   "source": [
    "print(28 * 43)"
   ],
   "metadata": {
    "collapsed": false,
    "ExecuteTime": {
     "end_time": "2023-08-23T18:24:25.341045283Z",
     "start_time": "2023-08-23T18:24:25.257584125Z"
    }
   },
   "id": "525325b368917681"
  },
  {
   "cell_type": "code",
   "execution_count": 4,
   "outputs": [
    {
     "name": "stdout",
     "output_type": "stream",
     "text": [
      "8.0\n"
     ]
    }
   ],
   "source": [
    "print((8+9+7)/3)"
   ],
   "metadata": {
    "collapsed": false,
    "ExecuteTime": {
     "end_time": "2023-08-23T18:25:44.200448516Z",
     "start_time": "2023-08-23T18:25:44.154118491Z"
    }
   },
   "id": "2bf2ba3aa626a14b"
  },
  {
   "cell_type": "code",
   "execution_count": 5,
   "outputs": [
    {
     "name": "stdout",
     "output_type": "stream",
     "text": [
      "É PRECISO FAZER TODOS OS ALGORITMOS PARA APRENDER\n"
     ]
    }
   ],
   "source": [
    "print(\"É PRECISO FAZER TODOS OS ALGORITMOS PARA APRENDER\")"
   ],
   "metadata": {
    "collapsed": false,
    "ExecuteTime": {
     "end_time": "2023-08-23T18:26:27.725408623Z",
     "start_time": "2023-08-23T18:26:27.668112233Z"
    }
   },
   "id": "c386ff8fa39a8e9e"
  },
  {
   "cell_type": "code",
   "execution_count": 9,
   "outputs": [
    {
     "name": "stdout",
     "output_type": "stream",
     "text": [
      "O antecessor de 10 é 9\n",
      "O sucessor de 10 é 11\n"
     ]
    }
   ],
   "source": [
    "numero = input(\"Digite um número: \")\n",
    "print(\"O antecessor de \" + str(numero) + \" é \" + str(int(numero) - 1))\n",
    "print(\"O sucessor de \" + str(numero) + \" é \" + str(int(numero) + 1))"
   ],
   "metadata": {
    "collapsed": false,
    "ExecuteTime": {
     "end_time": "2023-08-23T18:31:53.007884618Z",
     "start_time": "2023-08-23T18:31:50.801348156Z"
    }
   },
   "id": "cd570f3d2d4b5027"
  },
  {
   "cell_type": "code",
   "execution_count": 10,
   "outputs": [
    {
     "name": "stdout",
     "output_type": "stream",
     "text": [
      "Nome: Thiago\n",
      "Endereço: Gama\n",
      "Número:17\n"
     ]
    }
   ],
   "source": [
    "nome = input(\"Digite seu nome: \") \n",
    "endereco = input(\"Digite seu endereço: \")\n",
    "numero = input(\"Digite sue número de contato: \") \n",
    "\n",
    "print(\"Nome: \" + nome + '\\n'+\n",
    "      \"Endereço: \" + endereco + '\\n'+\n",
    "      \"Número: \" + numero + '\\n')"
   ],
   "metadata": {
    "collapsed": false,
    "ExecuteTime": {
     "end_time": "2023-08-23T18:34:46.533635094Z",
     "start_time": "2023-08-23T18:34:36.288558854Z"
    }
   },
   "id": "60831596431c8882"
  },
  {
   "cell_type": "code",
   "execution_count": 13,
   "outputs": [
    {
     "name": "stdout",
     "output_type": "stream",
     "text": [
      "Soma: 10\n"
     ]
    }
   ],
   "source": [
    "num1 = int(input(\"Digite o primeiro número para soma: \"))\n",
    "num2 = int(input(\"Digite o segundo número para soma: \"))\n",
    "soma = str(num1 + num2)\n",
    "print(\"Soma: \" + soma)"
   ],
   "metadata": {
    "collapsed": false,
    "ExecuteTime": {
     "end_time": "2023-08-23T18:38:50.696408375Z",
     "start_time": "2023-08-23T18:38:48.819394679Z"
    }
   },
   "id": "c03286628b900bb2"
  }
 ],
 "metadata": {
  "kernelspec": {
   "display_name": "Python 3",
   "language": "python",
   "name": "python3"
  },
  "language_info": {
   "codemirror_mode": {
    "name": "ipython",
    "version": 2
   },
   "file_extension": ".py",
   "mimetype": "text/x-python",
   "name": "python",
   "nbconvert_exporter": "python",
   "pygments_lexer": "ipython2",
   "version": "2.7.6"
  }
 },
 "nbformat": 4,
 "nbformat_minor": 5
}
