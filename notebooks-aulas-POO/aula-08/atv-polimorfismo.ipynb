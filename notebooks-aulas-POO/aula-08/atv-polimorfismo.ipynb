{
 "cells": [
  {
   "cell_type": "markdown",
   "metadata": {},
   "source": [
    "# Atividade 11 - Polimorfismo"
   ]
  },
  {
   "cell_type": "code",
   "execution_count": 5,
   "metadata": {},
   "outputs": [
    {
     "data": {
      "text/plain": [
       "('Lobo Bada', '45543')"
      ]
     },
     "execution_count": 5,
     "metadata": {},
     "output_type": "execute_result"
    }
   ],
   "source": [
    "class Pessoa:\n",
    "\n",
    "    def __init__(self, nome):\n",
    "        self.nome = nome\n",
    "\n",
    "    def get_nome(self):\n",
    "        return self.nome\n",
    "\n",
    "    def set_nome(self, new_nome):\n",
    "        self.nome = new_nome\n",
    "\n",
    "    def mostrar_dados(self):\n",
    "        return self.nome\n",
    "\n",
    "class PessoaFisica(Pessoa):\n",
    "    def __init__(self, nome, cpf):\n",
    "        super().__init__(nome)\n",
    "        self.cpf = cpf\n",
    "\n",
    "    def get_cpf(self):\n",
    "        return self.cpf\n",
    "    \n",
    "    def set_cpf(self, new_cpf):\n",
    "        self.cpf = new_cpf\n",
    "    \n",
    "    def get_nome(self):\n",
    "        return super().get_nome()\n",
    "\n",
    "    def set_nome(self, new_nome):\n",
    "        return super().set_nome(new_nome)\n",
    "\n",
    "    def mostrar_dados(self):\n",
    "        return super().mostrar_dados(), self.cpf\n",
    "\n",
    "class PessoaJuridica(Pessoa):\n",
    "    def __init__(self, nome, cnpj):\n",
    "        super().__init__(nome)\n",
    "        self.cnpj = cnpj\n",
    "    \n",
    "    def get_cnpj(self):\n",
    "        return self.cnpj\n",
    "\n",
    "    def set_cnpj(self, new_cnpj):\n",
    "        self.cnpj = new_cnpj\n",
    "    \n",
    "    def get_nome(self):\n",
    "        return super().get_nome()\n",
    "\n",
    "    def set_nome(self, new_nome):\n",
    "        return super().set_nome(new_nome)\n",
    "    \n",
    "    def mostrar_dados(self):\n",
    "        return super().mostrar_dados(), self.cnpj\n",
    "\n",
    "teste1 = Pessoa(\"Joao\")\n",
    "teste2 = PessoaJuridica(\"Maria inc\", \"123555\")\n",
    "teste3 = PessoaFisica(\"Lobo Bada\", \"45543\")\n",
    "\n",
    "teste3.mostrar_dados()"
   ]
  },
  {
   "cell_type": "code",
   "execution_count": 12,
   "metadata": {},
   "outputs": [
    {
     "data": {
      "text/plain": [
       "(343, 34.9, 'Black Keys')"
      ]
     },
     "execution_count": 12,
     "metadata": {},
     "output_type": "execute_result"
    }
   ],
   "source": [
    "class Midia:\n",
    "    TIPO = \"Mídia\"\n",
    "    def __init__(self, codigo=None, preco=None, nome=None):\n",
    "        self.codigo = codigo\n",
    "        self.preco = preco\n",
    "        self.nome = nome\n",
    "\n",
    "    def get_tipo(self):\n",
    "        return self.TIPO\n",
    "\n",
    "    def get_detalhes(self):\n",
    "        return self.codigo, self.preco, self.nome\n",
    "    \n",
    "    def insirir_dados(self, codigo=None, preco=None, nome=None):\n",
    "        if codigo:\n",
    "            self.codigo = codigo\n",
    "        elif preco:\n",
    "            self.preco = preco\n",
    "        elif nome:\n",
    "            self.nome = nome\n",
    "\n",
    "class DVD(Midia):\n",
    "    TIPO = \"DVD\"\n",
    "\n",
    "    def __init__(self, codigo=None, preco=None, nome=None, nFaixas=None):\n",
    "        super().__init__(codigo, preco, nome)\n",
    "        self.nFaixas = nFaixas\n",
    "    \n",
    "    def getTipo(self):\n",
    "        return self.TIPO \n",
    "    \n",
    "    def get_detalhes(self):\n",
    "        return super().get_detalhes(), self.nFaixas\n",
    "    \n",
    "    def setFaixas(self, new_faixas):\n",
    "        self.nFaixas = new_faixas\n",
    "    \n",
    "    def insirir_dados(self, codigo=None, preco=None, nome=None, nFaixa=None):\n",
    "        if nFaixa:\n",
    "            self.nFaixas = nFaixa\n",
    "        return super().insirir_dados(codigo, preco, nome)\n",
    "\n",
    "class CD(Midia):\n",
    "    TIPO = \"CD\"\n",
    "\n",
    "    def __init__(self, codigo=None, preco=None, nome=None, nMusicas=None):\n",
    "        super().__init__(codigo, preco, nome)\n",
    "        self.nMusicas = nMusicas\n",
    "\n",
    "    def get_tipo(self):\n",
    "        return self.TIPO\n",
    "    \n",
    "    def get_detalhes(self):\n",
    "        return super().get_detalhes(), self.nMusicas\n",
    "\n",
    "    def set_musicas(self, newMusicas):\n",
    "        self.nMusicas = newMusicas\n",
    "    \n",
    "    def insirir_dados(self, codigo=None, preco=None, nome=None, nMusicas=None):\n",
    "        self.nMusicas = nMusicas\n",
    "        return super().insirir_dados(codigo, preco, nome)\n",
    "    \n",
    "teste1 = Midia(343, 34.90, \"Black Keys\")\n",
    "teste2 = DVD(32, 50.00, \"From the Deep\", 25)\n",
    "teste3 = CD(45, 45.90, \"To Beyond the Space\", 20)\n",
    "\n",
    "teste1.get_detalhes()\n"
   ]
  },
  {
   "cell_type": "code",
   "execution_count": 15,
   "metadata": {},
   "outputs": [
    {
     "name": "stdout",
     "output_type": "stream",
     "text": [
      "*Som generico de uma preguiça...*\n"
     ]
    }
   ],
   "source": [
    "class Animal:\n",
    "    def __init__(self,nome,idade):\n",
    "        self.nome = nome\n",
    "        self.idade = idade\n",
    "\n",
    "    def emitir_som(self):\n",
    "        print(\"*Som genérico de um animal...*\")\n",
    "    \n",
    "    def correr(self):\n",
    "        print(\"Correndo...\")\n",
    "    \n",
    "class Cachorro(Animal):\n",
    "    def __init__(self, nome, idade):\n",
    "        super().__init__(nome, idade)\n",
    "    \n",
    "    def emitir_som(self):\n",
    "        print(\"Au Au Au...\")\n",
    "    \n",
    "    def correr(self):\n",
    "        return super().correr()\n",
    "\n",
    "class Cavalo(Animal):\n",
    "    def __init__(self, nome, idade):\n",
    "        super().__init__(nome, idade)\n",
    "    \n",
    "    def emitir_som(self):\n",
    "        print(\"*Som generico de um cavalo...*\")\n",
    "    \n",
    "    def correr(self):\n",
    "        return super().correr()\n",
    "\n",
    "class Preguica(Animal):\n",
    "    def __init__(self, nome, idade):\n",
    "        super().__init__(nome, idade)\n",
    "    \n",
    "    def emitir_som(self):\n",
    "        print(\"*Som generico de uma preguiça...*\")\n",
    "    \n",
    "    def subir_arvore(self):\n",
    "        print(\"Subindo na arvore...\")\n",
    "\n",
    "testeAnimal = Preguica('Kleber',32)\n",
    "testeAnimal.emitir_som()"
   ]
  }
 ],
 "metadata": {
  "kernelspec": {
   "display_name": "Python 3",
   "language": "python",
   "name": "python3"
  },
  "language_info": {
   "codemirror_mode": {
    "name": "ipython",
    "version": 3
   },
   "file_extension": ".py",
   "mimetype": "text/x-python",
   "name": "python",
   "nbconvert_exporter": "python",
   "pygments_lexer": "ipython3",
   "version": "3.12.0"
  }
 },
 "nbformat": 4,
 "nbformat_minor": 2
}
