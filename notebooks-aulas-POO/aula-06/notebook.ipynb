{
 "cells": [
  {
   "cell_type": "markdown",
   "metadata": {},
   "source": [
    "# Atividade 9 - Encapsulamento - POO"
   ]
  },
  {
   "cell_type": "markdown",
   "metadata": {},
   "source": [
    "# Classe Aluno\n",
    "---\n",
    "1. Criar uma classe Aluno com os seguintes atributos: \n",
    "    * nome\n",
    "    * matricula\n",
    "    * idade\n",
    "2. Encapsular os atributos e criar os métodos gettters e setters de cada atributo. \n",
    "3. Criar dois objetos do tipo Aluno e adicionar e mostrar as informações dos alunos."
   ]
  },
  {
   "cell_type": "code",
   "execution_count": null,
   "metadata": {},
   "outputs": [],
   "source": [
    "# criando classe Aluno\n",
    "class Aluno:\n",
    "    def __init__(self, nome, matricula, idade):\n",
    "        self.nome = nome\n",
    "        self.matricula = matricula\n",
    "        self.idade = idade\n",
    "        \n",
    "    def setNome(self, nome):\n",
    "        self.nome = nome\n",
    "        \n",
    "    def setMatricula(self, matricula):\n",
    "        self.matricula = matricula\n",
    "\n",
    "    def setIdade(self, idade):\n",
    "        self.idade = idade\n",
    "\n",
    "    def getNome(self):\n",
    "        return self.nome\n",
    "        \n",
    "    def getMatricula(self):\n",
    "        return self.matricula\n",
    "    \n",
    "    def getIdade(self):\n",
    "        return self.idade\n",
    "        \n",
    "# criando objetos\n",
    "aluno1 = Aluno('João', 123, 20)\n",
    "aluno2 = Aluno('Maria', 456, 21)\n",
    "\n",
    "# modificando os atributos de aluno1\n",
    "aluno1.setNome('Lobster')\n",
    "aluno1.setMatricula(789)\n",
    "aluno1.setIdade(22)\n",
    "\n",
    "# modificando os atributos de aluno2\n",
    "aluno2.setNome('Morin')\n",
    "aluno2.setMatricula(101112)\n",
    "aluno2.setIdade(23)\n",
    "\n",
    "# acessando os atributos de aluno1\n",
    "aluno1.getNome()\n",
    "aluno1.getMatricula()\n",
    "aluno1.getIdade()\n",
    "\n",
    "# acessando os atributos de aluno2\n",
    "aluno2.getNome()\n",
    "aluno2.getMatricula()\n",
    "aluno2.getIdade()\n",
    "\n",
    "\n",
    "        \n"
   ]
  },
  {
   "cell_type": "markdown",
   "metadata": {},
   "source": [
    "# Classe Jogador de Futebol\n",
    "---\n",
    "1. Criar uma classe JogadorFutebol com os seguintes atributos: \n",
    "    * nome\n",
    "    * posicao\n",
    "    * data_nascimento\n",
    "    * nacionalidade\n",
    "    * altura\n",
    "    * peso\n",
    "2. Encapsular os atributos e criar os métodos gettters e setters de cada atributo. \n",
    "3. Criar um método para imprimir todos os dados do jogador.\n",
    "4. Criar um método para calcular a idade do jogador.\n",
    "5. Criar um método para mostrar quanto tempo falta para o jogador se aposentar. Para isso, considere que:\n",
    "    * jogadores da posição de defesa se aposentam em média aos 45 anos\n",
    "    * jogadores de meio-campo aos 38 anos\n",
    "    * atacantes aos 35 anos.\n"
   ]
  },
  {
   "cell_type": "code",
   "execution_count": 1,
   "metadata": {},
   "outputs": [],
   "source": [
    "from datetime import datetime\n",
    "\n",
    "# criando classe JogadorFutebol\n",
    "class JogadorFutebol:\n",
    "    def __init__(self, nome, posicao, data_nascimento, nacionalidade, altura, peso, numero):\n",
    "        self.nome = nome\n",
    "        self.posicao = posicao\n",
    "        self.data_nascimento = datetime.strptime(data_nascimento, '%d/%m/%Y')\n",
    "        self.nacionalidade = nacionalidade\n",
    "        self.altura = altura\n",
    "        self.peso = peso\n",
    "        self.numero = numero\n",
    "        \n",
    "    def show_info(self):\n",
    "        return self.nome, self.posicao, self.data_nascimento, self.nacionalidade, self.altura, self.peso, self.numero\n",
    "    \n",
    "    def calcular_idade(self):\n",
    "        hoje = datetime.today\n",
    "        idade = hoje.year - self.data_nascimento.year\n",
    "        return idade\n",
    "\n",
    "    def tempo_aposentar(self):\n",
    "        idade = self.calcular_idade\n",
    "        if self.posicao == 'defesa' and idade >= 45 or self.posicao == 'meio-campo' and idade >= 38 or self.posicao == 'atacante' and idade >= 35:\n",
    "            return 'Aposentado!'\n",
    "        elif self.posicao == 'defesa':\n",
    "            return f'Anos para aposentar: {45 - idade}'\n",
    "        elif self.posicao == 'meio-campo':\n",
    "            return f'Anos para aposentar: {38 - idade}'\n",
    "        elif self.posicao == 'atacante':\n",
    "            return f'Anos para aposentar: {35 - idade}'\n",
    "\n"
   ]
  },
  {
   "cell_type": "markdown",
   "metadata": {},
   "source": [
    "# Criando um construtor\n",
    "---\n",
    "O construtor é um método especial que é executado automaticamente quando um objeto é criado. Ele é usado para inicializar os atributos do objeto.\n",
    "\n",
    "Para criar um construtor em Python, basta definir um método com o nome __init__(). Este método deve ter pelo menos um parâmetro, que é o objeto que está sendo criado (self), e pode ter outros parâmetros opcionais para inicializar os atributos do objeto.\n",
    "\n",
    "Aqui está um exemplo de como criar um construtor:\n"
   ]
  },
  {
   "cell_type": "code",
   "execution_count": null,
   "metadata": {},
   "outputs": [],
   "source": [
    "class NomeObj:\n",
    "\n",
    "    def __init__(self, atributo1, atributo2):\n",
    "        self.atributo1 = atributo1\n",
    "        self.atributo2 = atributo2"
   ]
  },
  {
   "cell_type": "markdown",
   "metadata": {},
   "source": [
    "# Classe Carro\n",
    "---\n",
    "1. Criar classe Carro os seguintes atributos:\n",
    "    * modelo\n",
    "    * placa\n",
    "    * cor\n",
    "2. Criar métodos setter e getter para os atributos\n",
    "3. Instanciar 2 objetos do tipo Carro e populá-los e mostrar seus valores\n",
    "    "
   ]
  },
  {
   "cell_type": "code",
   "execution_count": 4,
   "metadata": {},
   "outputs": [
    {
     "data": {
      "text/plain": [
       "'Mustang'"
      ]
     },
     "execution_count": 4,
     "metadata": {},
     "output_type": "execute_result"
    }
   ],
   "source": [
    "class Carro:\n",
    "\n",
    "    def __init__(self, modelo, placa, cor):\n",
    "        self.modelo = modelo\n",
    "        self.placa = placa\n",
    "        self.cor = cor\n",
    "\n",
    "    def set_modelo(self, novo_modelo):\n",
    "        self.modelo = novo_modelo\n",
    "    \n",
    "    def set_placa(self, nova_placa):\n",
    "        self.placa = nova_placa\n",
    "\n",
    "    def set_cor(self, nova_cor):\n",
    "        self.cor = nova_cor\n",
    "\n",
    "    def get_modelo(self):\n",
    "        return self.modelo\n",
    "\n",
    "    def get_placa(self):\n",
    "        return self.placa\n",
    "    \n",
    "    def get_cor(self):\n",
    "        return self.cor\n",
    "    \n",
    "meu_carro = Carro('Fusca', 'JKF055', 'rosa')\n",
    "carro_dela = Carro('Mustang', 'LJG443', 'azul')\n",
    "\n",
    "meu_carro.get_modelo()\n",
    "carro_dela.get_modelo()\n",
    "\n",
    "meu_carro.get_placa()\n",
    "carro_dela.get_placa()\n",
    "\n",
    "meu_carro.get_cor()\n",
    "carro_dela.get_cor()"
   ]
  }
 ],
 "metadata": {
  "kernelspec": {
   "display_name": "Python 3",
   "language": "python",
   "name": "python3"
  },
  "language_info": {
   "codemirror_mode": {
    "name": "ipython",
    "version": 3
   },
   "file_extension": ".py",
   "mimetype": "text/x-python",
   "name": "python",
   "nbconvert_exporter": "python",
   "pygments_lexer": "ipython3",
   "version": "3.12.0"
  }
 },
 "nbformat": 4,
 "nbformat_minor": 2
}
