{
 "cells": [
  {
   "cell_type": "markdown",
   "metadata": {},
   "source": [
    "## Atividade 2 Operadores"
   ]
  },
  {
   "cell_type": "code",
   "execution_count": 1,
   "metadata": {},
   "outputs": [],
   "source": [
    "import math as mt"
   ]
  },
  {
   "cell_type": "markdown",
   "metadata": {},
   "source": [
    "1 - Entrar com dois números reais e imprimir a media aritmética com a mensagem\n",
    "media antes do resultado"
   ]
  },
  {
   "cell_type": "code",
   "execution_count": 2,
   "metadata": {},
   "outputs": [
    {
     "name": "stdout",
     "output_type": "stream",
     "text": [
      "A média desses números é:  30.5\n"
     ]
    }
   ],
   "source": [
    "num1 = float(input(\"Insira um número: \"))\n",
    "num2 = float(input(\"Insira outro número: \"))\n",
    "\n",
    "print(\"A média desses números é: \", (num1+num2)/2)"
   ]
  },
  {
   "cell_type": "markdown",
   "metadata": {},
   "source": [
    "2 - Entrar com dois números inteiros e imprimir a seguinte saída:\n",
    "dividendo:\n",
    "divisor:\n",
    "quociente:\n",
    "resto:"
   ]
  },
  {
   "cell_type": "code",
   "execution_count": 3,
   "metadata": {},
   "outputs": [
    {
     "name": "stdout",
     "output_type": "stream",
     "text": [
      "dividendo:  24 \n",
      " divisor:  30 \n",
      " quociente:  0.8 \n",
      " resto:  24 \n",
      "\n"
     ]
    }
   ],
   "source": [
    "num1 = int(input(\"Insira um número: \"))\n",
    "num2 = int(input(\"Insira outro número\"))\n",
    "\n",
    "print(\"dividendo: \", num1, '\\n',\n",
    "      \"divisor: \", num2, '\\n',\n",
    "      \"quociente: \", num1/num2, '\\n',\n",
    "      \"resto: \", num1%num2, '\\n')"
   ]
  },
  {
   "cell_type": "markdown",
   "metadata": {},
   "source": [
    "3 - Entrar com quatro números e imprimir a média ponderada, sabendo-se que os\n",
    "pesos são respectivamente: 1, 2, 3 e 4."
   ]
  },
  {
   "cell_type": "code",
   "execution_count": 18,
   "metadata": {},
   "outputs": [
    {
     "name": "stdout",
     "output_type": "stream",
     "text": [
      "O resultado da media ponderada:  36.5\n"
     ]
    }
   ],
   "source": [
    "total = 0\n",
    "\n",
    "for i in range(1,5):\n",
    "    temp = float(input(\"Digite o número \" + str(i)))\n",
    "    total += (temp*i)\n",
    "\n",
    "print(\"O resultado da media ponderada: \" , (total/10))"
   ]
  },
  {
   "cell_type": "markdown",
   "metadata": {},
   "source": [
    "Algoritmo 42 - Entrar com um ângulo em graus e imprimir: seno, co-seno, tangente, secante,\n",
    "co-secante e co-tangente deste ângulo."
   ]
  },
  {
   "cell_type": "code",
   "execution_count": 2,
   "metadata": {},
   "outputs": [
    {
     "name": "stdout",
     "output_type": "stream",
     "text": [
      "O seno deste ângulo é 0.42261826174069944\n",
      "O co-seno deste ângulo é 0.9063077870366499\n",
      "A tangente deste ângulo é 0.4663076581549986\n",
      "O secante deste ângulo é 1.1033779189624917\n",
      "O co-secante deste ângulo é 2.3662015831524985\n",
      "O co-tangente deste ângulo é 2.1445069205095586\n"
     ]
    }
   ],
   "source": [
    "angulo = mt.radians(float(input(\"Digite o ângulo em graus: \")))\n",
    "\n",
    "seno = mt.sin(angulo)\n",
    "print(f\"O seno deste ângulo é {seno}\")\n",
    "\n",
    "co_seno = mt.cos(angulo)\n",
    "print(f\"O co-seno deste ângulo é {co_seno}\")\n",
    "\n",
    "tangente = mt.tan(angulo)\n",
    "print(f\"A tangente deste ângulo é {tangente}\")\n",
    "\n",
    "secante = 1 / co_seno\n",
    "print(f\"O secante deste ângulo é {secante}\")\n",
    "\n",
    "co_secante = 1 / seno\n",
    "print(f\"O co-secante deste ângulo é {co_secante}\")\n",
    "\n",
    "co_tangente = 1 / tangente\n",
    "print(f\"O co-tangente deste ângulo é {co_tangente}\")\n",
    "\n"
   ]
  },
  {
   "cell_type": "markdown",
   "metadata": {},
   "source": [
    "Algoritmo 43 - Entrar com um número e imprimir o logaritmo desse número na base 10."
   ]
  },
  {
   "cell_type": "code",
   "execution_count": 3,
   "metadata": {},
   "outputs": [
    {
     "name": "stdout",
     "output_type": "stream",
     "text": [
      "Resultado:  2.7701152947871015\n"
     ]
    }
   ],
   "source": [
    "num = float(input(\"Digite um número para calculo de log com base 10: \"))\n",
    "\n",
    "print(\"Resultado: \",mt.log10(num))"
   ]
  },
  {
   "cell_type": "markdown",
   "metadata": {},
   "source": [
    "Algoritmo 48 - Antes de o racionamento de energia ser decretado, quase ninguém falava em quilowatts; mas, agora, todos incorporaram essa palavra em seu vocabulário. Sabendo-se que 100 quilowatts de energia custa um sétimo do salário mínimo,\n",
    "fazer um algoritmo que receba o valor do salário mínimo e a quantidade de quilo-watts gasta por uma residência e calcule. Imprima:\n",
    "\n",
    "o valor em reais de cada quilowatt \n",
    "o valor em reais a ser pago o novo valor a ser pago por essa residência com um desconto de 10%.\n",
    "*\n"
   ]
  },
  {
   "cell_type": "code",
   "execution_count": 11,
   "metadata": {},
   "outputs": [
    {
     "name": "stdout",
     "output_type": "stream",
     "text": [
      "O valor de 100 quilowatt R$100.0 \n",
      " O valor a ser pago R$100.0 \n",
      " O valor a pagar com o desconto R$90.0 \n",
      "\n"
     ]
    }
   ],
   "source": [
    "salario = float(input(\"Digite o sálario minino: \"))\n",
    "quilo_watts = float(input(\"Digite a quantidade de quilowatts consumidos: \"))\n",
    "\n",
    "valor_watts_100 = salario/7\n",
    "valor_pagar = (quilo_watts/100)*valor_watts_100\n",
    "valor_new_pagar = valor_pagar-((10 / valor_pagar) * 100)\n",
    "\n",
    "print(f\"O valor de 100 quilowatt R${valor_watts_100} \\n\",\n",
    "      f\"O valor a ser pago R${valor_pagar} \\n\",\n",
    "      f\"O valor a pagar com o desconto R${valor_new_pagar} \\n\")\n"
   ]
  },
  {
   "cell_type": "markdown",
   "metadata": {},
   "source": [
    "Algoritmo 45 - Entrar com um número e imprimir a seguinte saída:\n",
    "numero:\n",
    "quadrado:\n",
    "raiz quadrada:"
   ]
  },
  {
   "cell_type": "code",
   "execution_count": 12,
   "metadata": {},
   "outputs": [
    {
     "name": "stdout",
     "output_type": "stream",
     "text": [
      "número: 200.0\n",
      "Quadrado:  40000.0\n",
      "raiz quadrada:  14.142135623730951\n"
     ]
    }
   ],
   "source": [
    "num = float(input(\"Digite um número: \"))\n",
    "\n",
    "print(f\"número: {num}\")\n",
    "print(\"Quadrado: \" , (num**2))\n",
    "print(\"raiz quadrada: \" , (mt.sqrt(num)))"
   ]
  },
  {
   "cell_type": "markdown",
   "metadata": {},
   "source": [
    "Algoritmo 49 - Entrar com um nome e imprimir:\n",
    "todo nome:\n",
    "primeiro caractere:\n",
    "ultimo caractere:\n",
    "do primeiro ate o terceiro:\n",
    "quarto caractere:\n",
    "todos menos o primeiro:\n",
    "os dois ultimos: *\n"
   ]
  },
  {
   "cell_type": "code",
   "execution_count": 17,
   "metadata": {},
   "outputs": [
    {
     "name": "stdout",
     "output_type": "stream",
     "text": [
      "Primeiro caractere:  T \n",
      " Ultimo caractere:  o \n",
      " Do primeiro ate o terceiro:  Thi \n",
      " Quarto caractere:  a \n",
      " Todos menos o primeiro:  hiago \n",
      " Os dois ultimos:  go \n",
      "\n"
     ]
    }
   ],
   "source": [
    "nome = input(\"Digite seu nome:\")\n",
    "\n",
    "print(\"Primeiro caractere: \",nome[0],'\\n',\n",
    "      \"Ultimo caractere: \", nome[-1], '\\n',\n",
    "      \"Do primeiro ate o terceiro: \",nome[:3],'\\n',\n",
    "      \"Quarto caractere: \", nome[3],'\\n',\n",
    "      \"Todos menos o primeiro: \", nome[1:],'\\n',\n",
    "      \"Os dois ultimos: \",nome[-2:],'\\n')"
   ]
  },
  {
   "cell_type": "markdown",
   "metadata": {},
   "source": [
    "Algoritmo 50 - Entrar com a base e a altura de um retângulo e imprimir a seguinte saída:\n",
    "perímetro\n",
    "área\n",
    "diagonal:"
   ]
  },
  {
   "cell_type": "code",
   "execution_count": 18,
   "metadata": {},
   "outputs": [
    {
     "name": "stdout",
     "output_type": "stream",
     "text": [
      "Perímetro: 1042.0\n",
      "Área: 56088.0\n",
      "Diagonal: 399.0801924425716\n"
     ]
    }
   ],
   "source": [
    "base = float(input(\"Digite a base do retângulo: \"))\n",
    "altura = float(input(\"Digite a altura do retângulo: \"))\n",
    "\n",
    "perimetro = 2 * (base + altura)\n",
    "area = base * altura\n",
    "diagonal = (base ** 2 + altura ** 2) ** 0.5\n",
    "\n",
    "print(f\"Perímetro: {perimetro}\")\n",
    "print(f\"Área: {area}\")\n",
    "print(f\"Diagonal: {diagonal}\")"
   ]
  }
 ],
 "metadata": {
  "kernelspec": {
   "display_name": "Python 3",
   "language": "python",
   "name": "python3"
  },
  "language_info": {
   "codemirror_mode": {
    "name": "ipython",
    "version": 3
   },
   "file_extension": ".py",
   "mimetype": "text/x-python",
   "name": "python",
   "nbconvert_exporter": "python",
   "pygments_lexer": "ipython3",
   "version": "3.10.12"
  },
  "orig_nbformat": 4
 },
 "nbformat": 4,
 "nbformat_minor": 2
}
