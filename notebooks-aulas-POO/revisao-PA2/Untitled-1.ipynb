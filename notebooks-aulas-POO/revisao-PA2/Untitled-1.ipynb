{
 "cells": [
  {
   "cell_type": "markdown",
   "metadata": {},
   "source": [
    "# Definição de Classes\n",
    "Defina classes com a palavra-chave class, que inclui um construtor e métodos."
   ]
  },
  {
   "cell_type": "code",
   "execution_count": null,
   "metadata": {},
   "outputs": [],
   "source": [
    "# Definindo a classe Pessoa\n",
    "class Pessoa:\n",
    "    # Construtor da classe\n",
    "    def __init__(self, nome, idade):\n",
    "        self.nome = nome\n",
    "        self.idade = idade\n",
    "\n",
    "    # Método para exibir os detalhes da pessoa\n",
    "    def exibir_detalhes(self):\n",
    "        return f'Nome: {self.nome}, Idade: {self.idade}'\n",
    "\n",
    "# Definindo a classe Estudante que herda de Pessoa\n",
    "class Estudante(Pessoa):\n",
    "    # Construtor da classe\n",
    "    def __init__(self, nome, idade, curso):\n",
    "        # Chamando o construtor da classe pai\n",
    "        super().__init__(nome, idade)\n",
    "        self.curso = curso\n",
    "\n",
    "    # Método para exibir os detalhes do estudante\n",
    "    def exibir_detalhes(self):\n",
    "        # Chamando o método da classe pai\n",
    "        detalhes_pessoa = super().exibir_detalhes()\n",
    "        return f'{detalhes_pessoa}, Curso: {self.curso}'\n",
    "\n",
    "# Criando um objeto da classe Pessoa\n",
    "pessoa = Pessoa('João', 30)\n",
    "print(pessoa.exibir_detalhes())\n",
    "\n",
    "# Criando um objeto da classe Estudante\n",
    "estudante = Estudante('Maria', 20, 'Ciência da Computação')\n",
    "print(estudante.exibir_detalhes())\n"
   ]
  },
  {
   "cell_type": "markdown",
   "metadata": {},
   "source": [
    "# Criação de Objetos\n",
    "Crie objetos a partir de classes definidas e acesse seus atributos e métodos."
   ]
  },
  {
   "cell_type": "code",
   "execution_count": null,
   "metadata": {},
   "outputs": [],
   "source": [
    "# Definindo a classe Professor que também herda de Pessoa\n",
    "class Professor(Pessoa):\n",
    "    # Construtor da classe\n",
    "    def __init__(self, nome, idade, disciplina):\n",
    "        # Chamando o construtor da classe pai\n",
    "        super().__init__(nome, idade)\n",
    "        self.disciplina = disciplina\n",
    "\n",
    "    # Método para exibir os detalhes do professor\n",
    "    def exibir_detalhes(self):\n",
    "        # Chamando o método da classe pai\n",
    "        detalhes_pessoa = super().exibir_detalhes()\n",
    "        return f'{detalhes_pessoa}, Disciplina: {self.disciplina}'\n",
    "\n",
    "# Criando um objeto da classe Professor\n",
    "professor = Professor('Carlos', 40, 'Matemática')\n",
    "print(professor.exibir_detalhes())\n",
    "\n",
    "# Acessando os atributos dos objetos\n",
    "print(pessoa.nome)\n",
    "print(estudante.curso)\n",
    "print(professor.disciplina)\n",
    "\n",
    "# Acessando os métodos dos objetos\n",
    "print(pessoa.exibir_detalhes())\n",
    "print(estudante.exibir_detalhes())\n",
    "print(professor.exibir_detalhes())"
   ]
  },
  {
   "cell_type": "markdown",
   "metadata": {},
   "source": [
    "# Herança\n",
    "Demonstre como uma classe pode herdar atributos e métodos de outra classe."
   ]
  },
  {
   "cell_type": "code",
   "execution_count": null,
   "metadata": {},
   "outputs": [],
   "source": [
    "class Diretor(Pessoa):\n",
    "    def __init__(self, nome, idade, salario):\n",
    "        super().__init__(nome, idade)\n",
    "        self.salario = salario\n",
    "class Diretor(Pessoa):\n",
    "    # Construtor da classe\n",
    "    def __init__(self, nome, idade, departamento):\n",
    "        # Chamando o construtor da classe pai\n",
    "        super().__init__(nome, idade)\n",
    "        self.departamento = departamento\n",
    "\n",
    "    # Método para exibir os detalhes do diretor\n",
    "    def exibir_detalhes(self):\n",
    "        # Chamando o método da classe pai\n",
    "        detalhes_pessoa = super().exibir_detalhes()\n",
    "        return f'{detalhes_pessoa}, Departamento: {self.departamento}'\n",
    "\n",
    "# Criando um objeto da classe Diretor\n",
    "diretor = Diretor('Ana', 50, 'Departamento de Ciências')\n",
    "print(diretor.exibir_detalhes())\n",
    "\n",
    "# Acessando os atributos dos objetos\n",
    "print(diretor.nome)\n",
    "print(diretor.departamento)\n",
    "\n",
    "# Acessando os métodos dos objetos\n",
    "print(diretor.exibir_detalhes())"
   ]
  }
 ],
 "metadata": {
  "kernelspec": {
   "display_name": "Python 3",
   "language": "python",
   "name": "python3"
  },
  "language_info": {
   "name": "python",
   "version": "3.12.0"
  },
  "orig_nbformat": 4
 },
 "nbformat": 4,
 "nbformat_minor": 2
}
