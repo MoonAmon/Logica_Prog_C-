{
 "cells": [
  {
   "cell_type": "markdown",
   "metadata": {},
   "source": [
    "# Atividade 3 - Funções"
   ]
  },
  {
   "cell_type": "code",
   "execution_count": 5,
   "metadata": {},
   "outputs": [
    {
     "name": "stdout",
     "output_type": "stream",
     "text": [
      "Valor com desconto: R$ 415.45\n"
     ]
    }
   ],
   "source": [
    "# algoritmo 62\n",
    "def desconto(valor):\n",
    "    \"\"\"Calcula e retorna valor com 8% de desconto\"\"\"\n",
    "    new_valor = valor - valor * 0.09\n",
    "    return new_valor\n",
    "\n",
    "valor = float(input(\"Digite o valor da compra: \"))\n",
    "new_valor = desconto(valor)\n",
    "print(\"Valor com desconto: R$\",\"{:.2f}\".format(new_valor))"
   ]
  },
  {
   "cell_type": "code",
   "execution_count": 9,
   "metadata": {},
   "outputs": [
    {
     "name": "stdout",
     "output_type": "stream",
     "text": [
      "Salario liquido: R$ 3648.00\n"
     ]
    }
   ],
   "source": [
    "# algoritmo 63\n",
    "def salLiquido(valor_hora, num_aulas, desconto_inss, hora_aula=8):\n",
    "    \"\"\"Calcula o salario liquido de um professor\"\"\"\n",
    "    hora_trabalho = num_aulas * hora_aula # estou colocando as horas semanal de trabalho como padrão 40 (horas semanal), levando em conta a semana de seg a sex\n",
    "    salario_liq_sem_desconto = hora_trabalho * valor_hora\n",
    "    salario_liq = salario_liq_sem_desconto - (salario_liq_sem_desconto * (desconto_inss / 100))\n",
    "    return salario_liq\n",
    "\n",
    "valor_hora = float(input(\"Digite o valor da hora aula: \"))\n",
    "num_aulas = float(input(\"Digite o numero de aulas dadas: \"))\n",
    "desconto_inss = float(input(\"Digite o desconto do INSS: \"))\n",
    "\n",
    "salario_liq = salLiquido(valor_hora, num_aulas, desconto_inss)\n",
    "print(\"Salario liquido: R$\",\"{:.2f}\".format(salario_liq))"
   ]
  },
  {
   "cell_type": "code",
   "execution_count": 10,
   "metadata": {},
   "outputs": [
    {
     "name": "stdout",
     "output_type": "stream",
     "text": [
      "Temperatura convertida: F  133.41\n"
     ]
    }
   ],
   "source": [
    "# algoritmo 64\n",
    "def converteCelsius(temp_Celsius):\n",
    "    \"\"\"Faz a conversão de Celsius para Fahrenheit\"\"\"\n",
    "    temp_Fahrenheit = ((9 * temp_Celsius) + 160) / 5\n",
    "    return temp_Fahrenheit\n",
    "\n",
    "temp_C = float(input(\"Digite a temperatura em Celsius: \"))\n",
    "temp_F = converteCelsius(temp_C)\n",
    "print(\"Temperatura convertida: F\",\"{:.2f}\".format(temp_F))\n",
    "\n"
   ]
  },
  {
   "cell_type": "code",
   "execution_count": 15,
   "metadata": {},
   "outputs": [
    {
     "name": "stdout",
     "output_type": "stream",
     "text": [
      "Tempo percorrido: h 5.30 \n",
      "Velocidade media: Km/h 25.60 \n",
      "Distancia percorrida: Km 135.68 \n",
      "Quantidade de gasolina consumida: l 11.00\n"
     ]
    }
   ],
   "source": [
    "# algoritmo 64 ? (65)\n",
    "def gasGastos(tempo_viagem, velocidade_media, velocidade_litro=12):\n",
    "    \"\"\"Calcula a quantidade em litros de gasolina gastos em uma viagem (velocidade litro carro 12 km padrão)\"\"\"\n",
    "    global distancia_percorrida\n",
    "    distancia_percorrida = tempo_viagem * velocidade_media\n",
    "    litros_usados = distancia_percorrida // velocidade_litro\n",
    "    return litros_usados\n",
    "\n",
    "tempo_v = float(input(\"digite o tempo total da viagem: \"))\n",
    "velocidade_med = float(input(\"digite a velocidade media do carro: \"))\n",
    "l_gas = gasGastos(tempo_v, velocidade_med)\n",
    "print(\"Tempo percorrido: h\",\"{:.2f}\".format(tempo_v),\n",
    "      \"\\nVelocidade media: Km/h\",\"{:.2f}\".format(velocidade_med),\n",
    "      \"\\nDistancia percorrida: Km\",\"{:.2f}\".format(distancia_percorrida),\n",
    "      \"\\nQuantidade de gasolina consumida: l\",\"{:.2f}\".format(l_gas))"
   ]
  },
  {
   "cell_type": "code",
   "execution_count": 16,
   "metadata": {},
   "outputs": [
    {
     "name": "stdout",
     "output_type": "stream",
     "text": [
      "Novo valor prestação em atraso: R$ 3400.00\n"
     ]
    }
   ],
   "source": [
    "# algoritmo 67\n",
    "def calcularPrestAtraso(valor, taxa, tempo):\n",
    "    \"\"\"Calcula valor de parcela em atraso\"\"\"\n",
    "    prestacao = valor + (valor * tempo * (taxa / 100))\n",
    "    return prestacao\n",
    "\n",
    "valor_atraso = float(input(\"Digite o valor da prestação a pagar: \"))\n",
    "tax_atraso = float(input(\"Digite a taxa de atraso da prestação: \"))\n",
    "tempo_atraso = float(input(\"Digite o tempo de atraso: \"))\n",
    "\n",
    "print(\"Novo valor prestação em atraso: R$\",\"{:.2f}\".format(calcularPrestAtraso(valor_atraso, tax_atraso, tempo_atraso)))"
   ]
  },
  {
   "cell_type": "code",
   "execution_count": 18,
   "metadata": {},
   "outputs": [
    {
     "name": "stdout",
     "output_type": "stream",
     "text": [
      "Novo valor mais a gorjeta: R$ 275.55\n"
     ]
    }
   ],
   "source": [
    "# algoritmo 70\n",
    "def contaMaisGorjeta(valor_total, gorjeta=10):\n",
    "    \"\"\"Calcula valor da conta final do restaurante mais a porcentagem da gorjeta\"\"\"\n",
    "    conta_final = ((gorjeta / 100) * valor_total) + valor_total\n",
    "    return conta_final\n",
    "\n",
    "preco_conta = float(input(\"Digite o valor da conta final: \"))\n",
    "\n",
    "print(\"Novo valor mais a gorjeta: R$\",\"{:.2f}\".format(contaMaisGorjeta(preco_conta)))"
   ]
  },
  {
   "cell_type": "code",
   "execution_count": 20,
   "metadata": {},
   "outputs": [
    {
     "name": "stdout",
     "output_type": "stream",
     "text": [
      "Valor do deposito: R$ 5000.00 \n",
      "Novo valor de rendimento: R$ 5125.00\n"
     ]
    }
   ],
   "source": [
    "# algoritmo 72\n",
    "def rendimentoDep(valor_deposito, taxa_juros):\n",
    "    \"\"\"Calcula rendimento sobre o valor depositado de acordo com a taxa de juros\"\"\"\n",
    "    valor_rendimento = ((taxa_juros / 100) * valor_deposito) + valor_deposito\n",
    "    return valor_rendimento\n",
    "\n",
    "money_deposito = float(input(\"Digite o valor do deposito: \"))\n",
    "tax_juros = float(input(\"Digite a taxa de juros: \"))\n",
    "\n",
    "print(\"Valor do deposito: R$\",\"{:.2f}\".format(money_deposito),\n",
    "      \"\\nNovo valor de rendimento: R$\",\"{:.2f}\".format(rendimentoDep(money_deposito, tax_juros)))"
   ]
  }
 ],
 "metadata": {
  "kernelspec": {
   "display_name": "Python 3",
   "language": "python",
   "name": "python3"
  },
  "language_info": {
   "codemirror_mode": {
    "name": "ipython",
    "version": 3
   },
   "file_extension": ".py",
   "mimetype": "text/x-python",
   "name": "python",
   "nbconvert_exporter": "python",
   "pygments_lexer": "ipython3",
   "version": "3.11.4"
  },
  "orig_nbformat": 4
 },
 "nbformat": 4,
 "nbformat_minor": 2
}
