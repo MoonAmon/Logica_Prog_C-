{
 "cells": [
  {
   "cell_type": "markdown",
   "metadata": {},
   "source": [
    "# Thiago Amancio Reis Caetano - 2° Avaliação de POO"
   ]
  },
  {
   "cell_type": "markdown",
   "metadata": {},
   "source": [
    "### Questão 05"
   ]
  },
  {
   "cell_type": "code",
   "execution_count": 1,
   "metadata": {},
   "outputs": [],
   "source": [
    "class InstrumentoMusical:\n",
    "    def __init__(self, cor, ano_fabricacao):\n",
    "        self._cor = cor\n",
    "        self._ano_fabricacao = ano_fabricacao\n",
    "\n",
    "    def get_cor(self):\n",
    "        return self._cor\n",
    "    \n",
    "    def get_ano_fabricacao(self):\n",
    "        return self._ano_fabricacao\n",
    "\n",
    "    def set_cor(self, cor):\n",
    "        self._cor = cor\n",
    "    \n",
    "    def set_ano_fabricacao(self, ano_fabricacao):\n",
    "        self._ano_fabricacao = ano_fabricacao\n",
    "    \n",
    "class Violao(InstrumentoMusical):\n",
    "    def __init__(self, cor, ano_fabricacao, quantidade_de_cordas):\n",
    "        super().__init__(cor, ano_fabricacao)\n",
    "        self._quantidade_de_cordas = quantidade_de_cordas\n",
    "    \n",
    "    def get_cor(self):\n",
    "        return super().get_cor()\n",
    "    \n",
    "    def get_ano_fabricacao(self):\n",
    "        return super().get_ano_fabricacao()\n",
    "    \n",
    "    def get_num_cordas(self):\n",
    "        return self._quantidade_de_cordas\n",
    "    \n",
    "    def set_num_cordas(self, num_cordas):\n",
    "        self._quantidade_de_cordas = num_cordas\n",
    "\n",
    "    def set_ano_fabricacao(self, ano_fabricacao):\n",
    "        return super().set_ano_fabricacao(ano_fabricacao)\n",
    "    \n",
    "    def set_cor(self, cor):\n",
    "        return super().set_cor(cor)\n",
    "    \n",
    "    def tocar(self):\n",
    "        print('Tocando violão')\n",
    "    \n",
    "class Flauta(InstrumentoMusical):\n",
    "    def __init__(self, cor, ano_fabricacao, tipo_de_material):\n",
    "        super().__init__(cor, ano_fabricacao)\n",
    "        self._tipo_de_material = tipo_de_material\n",
    "\n",
    "    def get_cor(self):\n",
    "        return super().get_cor()\n",
    "    \n",
    "    def get_ano_fabricacao(self):\n",
    "        return super().get_ano_fabricacao()\n",
    "    \n",
    "    def get_tipo_material(self):\n",
    "        return self._tipo_de_material\n",
    "    \n",
    "    def set_tipo_material(self, tipo_material):\n",
    "        self._tipo_de_material = tipo_material\n",
    "\n",
    "    def set_ano_fabricacao(self, ano_fabricacao):\n",
    "        return super().set_ano_fabricacao(ano_fabricacao)\n",
    "    \n",
    "    def set_cor(self, cor):\n",
    "        return super().set_cor(cor)\n",
    "    \n",
    "    def tocar(self):\n",
    "        print(\"Tocando flauta\")"
   ]
  },
  {
   "cell_type": "code",
   "execution_count": 2,
   "metadata": {},
   "outputs": [
    {
     "name": "stdout",
     "output_type": "stream",
     "text": [
      "Violão - Cor: Marrom, Ano de fabricação: 2020, Quantidade de Cordas: 6\n",
      "Tocando violão\n",
      "None\n",
      "\n"
     ]
    }
   ],
   "source": [
    "# Exemplo de uso\n",
    "violao = Violao(\"Marrom\", 2020, 6)\n",
    "flauta = Flauta(\"Prata\", 2019, \"Madeira\")\n",
    "\n",
    "print(f\"Violão - Cor: {violao.get_cor()}, Ano de fabricação: {violao.get_ano_fabricacao()}, Quantidade de Cordas: {violao.get_num_cordas()}\")\n",
    "print(violao.tocar())"
   ]
  },
  {
   "cell_type": "code",
   "execution_count": 3,
   "metadata": {},
   "outputs": [
    {
     "name": "stdout",
     "output_type": "stream",
     "text": [
      "Flauta - Cor: Prata, Ano de Fabricação: 2019, Tipo de Material: Madeira\n",
      "Tocando flauta\n",
      "None\n"
     ]
    }
   ],
   "source": [
    "# Características e métodos tocar para a flauta\n",
    "print(f\"Flauta - Cor: {flauta.get_cor()}, Ano de Fabricação: {flauta.get_ano_fabricacao()}, Tipo de Material: {flauta.get_tipo_material()}\")\n",
    "print(flauta.tocar())"
   ]
  },
  {
   "cell_type": "markdown",
   "metadata": {},
   "source": [
    "## Questão 6"
   ]
  },
  {
   "cell_type": "markdown",
   "metadata": {},
   "source": [
    "#### Resposta A"
   ]
  },
  {
   "cell_type": "code",
   "execution_count": 11,
   "metadata": {},
   "outputs": [],
   "source": [
    "import abc\n",
    "from abc import abstractmethod\n",
    "\n",
    "class VeiculoBase(abc):\n",
    "    def __init__(self, modelo=None, cor=None, velocidadeMaxima=0, velocidadeAtual=0):\n",
    "        self._modelo = modelo\n",
    "        self.cor = cor\n",
    "        self._velocidadeMaxima = velocidadeMaxima\n",
    "        self.velocidadeAtual = velocidadeAtual\n",
    "\n",
    "    def get_modelo(self):\n",
    "        return self._modelo\n",
    "\n",
    "    def get_cor(self):\n",
    "        return self.cor\n",
    "\n",
    "    def get_velocidadeMaxima(self):\n",
    "        return self._velocidadeMaxima\n",
    "\n",
    "    def get_velocidadeAtual(self):\n",
    "        return self.velocidadeAtual\n",
    "\n",
    "    def set_modelo(self, modelo:str):\n",
    "        self._modelo = modelo\n",
    "\n",
    "    def set_cor(self, cor:str):\n",
    "        self.cor = cor\n",
    "\n",
    "    def set_velocidadeMaxima(self, velocidadeMax:int):\n",
    "        self._velocidadeMaxima = velocidadeMax\n",
    "\n",
    "    def set_velocidadeAtual(self, velocidadeAtual:int):\n",
    "        self.velocidadeAtual = velocidadeAtual\n",
    "\n",
    "    @abstractmethod\n",
    "    def acelerar(self, incremento:int):\n",
    "        pass\n",
    "\n",
    "    @abstractmethod\n",
    "    def desacelerar(self, decremento:int):\n",
    "        pass\n",
    "    \n"
   ]
  },
  {
   "cell_type": "markdown",
   "metadata": {},
   "source": [
    "#### Resposta B"
   ]
  },
  {
   "cell_type": "code",
   "execution_count": 16,
   "metadata": {},
   "outputs": [],
   "source": [
    "class Carro(VeiculoBase):\n",
    "    def __init__(self, modelo=None, cor=None, velocidadeMaxima=0, velocidadeAtual=0):\n",
    "        super().__init__(modelo, cor, velocidadeMaxima, velocidadeAtual)\n",
    "    \n",
    "    def get_cor(self):\n",
    "        return super().get_cor()\n",
    "    \n",
    "    def get_modelo(self):\n",
    "        return super().get_modelo()\n",
    "    \n",
    "    def get_velocidadeAtual(self):\n",
    "        return super().get_velocidadeAtual()\n",
    "    \n",
    "    def get_velocidadeMaxima(self):\n",
    "        return super().get_velocidadeMaxima()\n",
    "    \n",
    "    def set_cor(self, cor: str):\n",
    "        return super().set_cor(cor)\n",
    "    \n",
    "    def set_modelo(self, modelo: str):\n",
    "        return super().set_modelo(modelo)\n",
    "    \n",
    "    def set_velocidadeMaxima(self, velocidadeMax: int):\n",
    "        return super().set_velocidadeMaxima(velocidadeMax)\n",
    "    \n",
    "    def set_velocidadeAtual(self, velocidadeAtual: int):\n",
    "        return super().set_velocidadeAtual(velocidadeAtual)\n",
    "    \n",
    "    def acelerar(self, incremento: int):\n",
    "        if self.velocidadeAtual + incremento * 2 > self._velocidadeMaxima:\n",
    "            self.velocidadeAtual = self._velocidadeMaxima \n",
    "            return f\"Velocidade Máxima!!: {self.velocidadeAtual}Km\"\n",
    "        else:\n",
    "            self.velocidadeAtual += incremento * 2\n",
    "            return f\"Velocidade Atual: {self.velocidadeAtual}Km\"\n",
    "\n",
    "    def desacelerar(self, decremento: int):\n",
    "        if self.velocidadeAtual < decremento:\n",
    "            self.velocidadeAtual = 0\n",
    "            return f\"Velocidade Parou!!: {self.velocidadeAtual}Km\"\n",
    "        else:\n",
    "            self.velocidadeAtual -= decremento\n",
    "            return f\"Velocidade Atual: {self.velocidadeAtual}Km\"\n",
    "\n",
    "\n",
    "class Moto(VeiculoBase):\n",
    "    def __init__(self, modelo=None, cor=None, velocidadeMaxima=0, velocidadeAtual=0):\n",
    "        super().__init__(modelo, cor, velocidadeMaxima, velocidadeAtual)\n",
    "    \n",
    "    def get_cor(self):\n",
    "        return super().get_cor()\n",
    "    \n",
    "    def get_modelo(self):\n",
    "        return super().get_modelo()\n",
    "    \n",
    "    def get_velocidadeAtual(self):\n",
    "        return super().get_velocidadeAtual()\n",
    "    \n",
    "    def get_velocidadeMaxima(self):\n",
    "        return super().get_velocidadeMaxima()\n",
    "    \n",
    "    def set_cor(self, cor: str):\n",
    "        return super().set_cor(cor)\n",
    "    \n",
    "    def set_modelo(self, modelo: str):\n",
    "        return super().set_modelo(modelo)\n",
    "    \n",
    "    def set_velocidadeMaxima(self, velocidadeMax: int):\n",
    "        return super().set_velocidadeMaxima(velocidadeMax)\n",
    "    \n",
    "    def set_velocidadeAtual(self, velocidadeAtual: int):\n",
    "        return super().set_velocidadeAtual(velocidadeAtual)\n",
    "    \n",
    "    def acelerar(self, incremento: int):\n",
    "        if self.velocidadeAtual + incremento > self._velocidadeMaxima:\n",
    "            self.velocidadeAtual = self._velocidadeMaxima\n",
    "            return f\"Velocidade Máxima!!: {self.velocidadeAtual}Km\"\n",
    "        else:\n",
    "            self.velocidadeAtual += incremento\n",
    "            return f\"Velocidade Atual: {self.velocidadeAtual}Km\"\n",
    "\n",
    "    def desacelerar(self, decremento: int):\n",
    "        if self.velocidadeAtual < decremento * 2:\n",
    "            self.velocidadeAtual = 0\n",
    "            return f\"Velocidade Atual: {self.velocidadeAtual}Km\"\n",
    "        else:\n",
    "            self.velocidadeAtual -= decremento * 2\n",
    "            return f\"Velocidade Atual: {self.velocidadeAtual}Km\"\n"
   ]
  },
  {
   "cell_type": "markdown",
   "metadata": {},
   "source": [
    "#### Resposta C"
   ]
  },
  {
   "cell_type": "code",
   "execution_count": 17,
   "metadata": {},
   "outputs": [
    {
     "name": "stdout",
     "output_type": "stream",
     "text": [
      "Carro: Modelo - Ferrari, Cor - Vermelho, Velocidade Atual - 80\n",
      "Moto: Modelo - Honda, Cor - Azul, Velocidade Atual - 10\n"
     ]
    }
   ],
   "source": [
    "carro = Carro(velocidadeMaxima=200)\n",
    "carro.set_modelo(\"Ferrari\")\n",
    "carro.set_cor(\"Vermelho\")\n",
    "\n",
    "moto = Moto(velocidadeMaxima=150)\n",
    "moto.set_modelo(\"Honda\")\n",
    "moto.set_cor(\"Azul\")\n",
    "\n",
    "carro.acelerar(50)\n",
    "moto.acelerar(30)\n",
    "carro.desacelerar(20)\n",
    "moto.desacelerar(10)\n",
    "\n",
    "print(f\"Carro: Modelo - {carro.get_modelo()}, Cor - {carro.get_cor()}, Velocidade Atual - {carro.get_velocidadeAtual()}\")\n",
    "print(f\"Moto: Modelo - {moto.get_modelo()}, Cor - {moto.get_cor()}, Velocidade Atual - {moto.get_velocidadeAtual()}\")\n"
   ]
  }
 ],
 "metadata": {
  "kernelspec": {
   "display_name": "Python 3",
   "language": "python",
   "name": "python3"
  },
  "language_info": {
   "codemirror_mode": {
    "name": "ipython",
    "version": 3
   },
   "file_extension": ".py",
   "mimetype": "text/x-python",
   "name": "python",
   "nbconvert_exporter": "python",
   "pygments_lexer": "ipython3",
   "version": "3.12.0"
  }
 },
 "nbformat": 4,
 "nbformat_minor": 2
}
